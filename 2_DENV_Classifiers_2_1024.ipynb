{
  "nbformat": 4,
  "nbformat_minor": 0,
  "metadata": {
    "colab": {
      "provenance": []
    },
    "kernelspec": {
      "name": "python3",
      "display_name": "Python 3"
    },
    "language_info": {
      "name": "python"
    }
  },
  "cells": [
    {
      "cell_type": "code",
      "execution_count": null,
      "metadata": {
        "id": "zDVmCQRIabzw"
      },
      "outputs": [],
      "source": [
        "import numpy as np\n",
        "import pandas as pd\n",
        "import matplotlib.pyplot as plt\n",
        "import seaborn as sns\n",
        "import pickle"
      ]
    },
    {
      "cell_type": "markdown",
      "source": [
        "# **Load the datasets**"
      ],
      "metadata": {
        "id": "AiTiRLaeav7k"
      }
    },
    {
      "cell_type": "code",
      "source": [
        "df = pd.read_csv(\"2-1024_drug_like_MorganFp_no_intermed.csv\")\n",
        "df"
      ],
      "metadata": {
        "id": "EiSSBpUvanOU",
        "colab": {
          "base_uri": "https://localhost:8080/",
          "height": 443
        },
        "outputId": "e2585be1-4846-4ac6-f721-1779b152370b"
      },
      "execution_count": null,
      "outputs": [
        {
          "output_type": "execute_result",
          "data": {
            "text/plain": [
              "     molecule_chembl_id                            canonical_smiles  type  \\\n",
              "0          CHEMBL115145       O=C(O)c1cc(Cc2ccc(O)c(C(=O)O)c2)ccc1O  IC50   \n",
              "1          CHEMBL115145       O=C(O)c1cc(Cc2ccc(O)c(C(=O)O)c2)ccc1O  IC50   \n",
              "2          CHEMBL115145       O=C(O)c1cc(Cc2ccc(O)c(C(=O)O)c2)ccc1O  IC50   \n",
              "3          CHEMBL115145       O=C(O)c1cc(Cc2ccc(O)c(C(=O)O)c2)ccc1O  IC50   \n",
              "4          CHEMBL115145       O=C(O)c1cc(Cc2ccc(O)c(C(=O)O)c2)ccc1O  IC50   \n",
              "...                 ...                                         ...   ...   \n",
              "1299       CHEMBL607576  COc1cc(CNc2ccc(C(=O)O)cc2)ccc1OCc1ccccc1Cl  IC50   \n",
              "1300       CHEMBL607863         COc1ccc2c(c1)C(CC(=O)O)CN2Cc1ccccc1  IC50   \n",
              "1301        CHEMBL63883           COc1ccc(NC(=O)c2cc3ccccc3cc2O)cc1  IC50   \n",
              "1302        CHEMBL66953               O=c1c(O)cccc2cc(O)c(O)c(O)c12  IC50   \n",
              "1303         CHEMBL8260        O=c1cc(-c2ccccc2)oc2cc(O)c(O)c(O)c12  IC50   \n",
              "\n",
              "     units   value  activity  Bit_0  Bit_1  Bit_2  Bit_3  ...  Bit_1014  \\\n",
              "0       uM    1.52    active      0      0      0      0  ...         0   \n",
              "1       uM    3.16    active      0      0      0      0  ...         0   \n",
              "2       uM    6.22    active      0      0      0      0  ...         0   \n",
              "3       uM    7.14    active      0      0      0      0  ...         0   \n",
              "4       uM    9.46    active      0      0      0      0  ...         0   \n",
              "...    ...     ...       ...    ...    ...    ...    ...  ...       ...   \n",
              "1299    uM  100.00  Inactive      0      0      0      1  ...         0   \n",
              "1300    uM  100.00  Inactive      0      0      0      1  ...         0   \n",
              "1301    uM  100.00  Inactive      0      0      0      0  ...         0   \n",
              "1302    uM   12.19    active      0      0      0      0  ...         0   \n",
              "1303    uM   35.06  Inactive      0      0      0      0  ...         0   \n",
              "\n",
              "      Bit_1015  Bit_1016  Bit_1017  Bit_1018  Bit_1019  Bit_1020  Bit_1021  \\\n",
              "0            0         0         0         0         0         0         0   \n",
              "1            0         0         0         0         0         0         0   \n",
              "2            0         0         0         0         0         0         0   \n",
              "3            0         0         0         0         0         0         0   \n",
              "4            0         0         0         0         0         0         0   \n",
              "...        ...       ...       ...       ...       ...       ...       ...   \n",
              "1299         0         0         0         0         0         0         0   \n",
              "1300         0         0         0         0         1         0         0   \n",
              "1301         0         0         0         0         0         0         0   \n",
              "1302         0         0         0         0         0         0         1   \n",
              "1303         0         0         0         0         0         0         0   \n",
              "\n",
              "      Bit_1022  Bit_1023  \n",
              "0            0         0  \n",
              "1            0         0  \n",
              "2            0         0  \n",
              "3            0         0  \n",
              "4            0         0  \n",
              "...        ...       ...  \n",
              "1299         0         0  \n",
              "1300         0         0  \n",
              "1301         0         0  \n",
              "1302         0         0  \n",
              "1303         0         0  \n",
              "\n",
              "[1304 rows x 1030 columns]"
            ],
            "text/html": [
              "\n",
              "  <div id=\"df-305a874e-bab8-456a-9f4a-a58e8f833a58\" class=\"colab-df-container\">\n",
              "    <div>\n",
              "<style scoped>\n",
              "    .dataframe tbody tr th:only-of-type {\n",
              "        vertical-align: middle;\n",
              "    }\n",
              "\n",
              "    .dataframe tbody tr th {\n",
              "        vertical-align: top;\n",
              "    }\n",
              "\n",
              "    .dataframe thead th {\n",
              "        text-align: right;\n",
              "    }\n",
              "</style>\n",
              "<table border=\"1\" class=\"dataframe\">\n",
              "  <thead>\n",
              "    <tr style=\"text-align: right;\">\n",
              "      <th></th>\n",
              "      <th>molecule_chembl_id</th>\n",
              "      <th>canonical_smiles</th>\n",
              "      <th>type</th>\n",
              "      <th>units</th>\n",
              "      <th>value</th>\n",
              "      <th>activity</th>\n",
              "      <th>Bit_0</th>\n",
              "      <th>Bit_1</th>\n",
              "      <th>Bit_2</th>\n",
              "      <th>Bit_3</th>\n",
              "      <th>...</th>\n",
              "      <th>Bit_1014</th>\n",
              "      <th>Bit_1015</th>\n",
              "      <th>Bit_1016</th>\n",
              "      <th>Bit_1017</th>\n",
              "      <th>Bit_1018</th>\n",
              "      <th>Bit_1019</th>\n",
              "      <th>Bit_1020</th>\n",
              "      <th>Bit_1021</th>\n",
              "      <th>Bit_1022</th>\n",
              "      <th>Bit_1023</th>\n",
              "    </tr>\n",
              "  </thead>\n",
              "  <tbody>\n",
              "    <tr>\n",
              "      <th>0</th>\n",
              "      <td>CHEMBL115145</td>\n",
              "      <td>O=C(O)c1cc(Cc2ccc(O)c(C(=O)O)c2)ccc1O</td>\n",
              "      <td>IC50</td>\n",
              "      <td>uM</td>\n",
              "      <td>1.52</td>\n",
              "      <td>active</td>\n",
              "      <td>0</td>\n",
              "      <td>0</td>\n",
              "      <td>0</td>\n",
              "      <td>0</td>\n",
              "      <td>...</td>\n",
              "      <td>0</td>\n",
              "      <td>0</td>\n",
              "      <td>0</td>\n",
              "      <td>0</td>\n",
              "      <td>0</td>\n",
              "      <td>0</td>\n",
              "      <td>0</td>\n",
              "      <td>0</td>\n",
              "      <td>0</td>\n",
              "      <td>0</td>\n",
              "    </tr>\n",
              "    <tr>\n",
              "      <th>1</th>\n",
              "      <td>CHEMBL115145</td>\n",
              "      <td>O=C(O)c1cc(Cc2ccc(O)c(C(=O)O)c2)ccc1O</td>\n",
              "      <td>IC50</td>\n",
              "      <td>uM</td>\n",
              "      <td>3.16</td>\n",
              "      <td>active</td>\n",
              "      <td>0</td>\n",
              "      <td>0</td>\n",
              "      <td>0</td>\n",
              "      <td>0</td>\n",
              "      <td>...</td>\n",
              "      <td>0</td>\n",
              "      <td>0</td>\n",
              "      <td>0</td>\n",
              "      <td>0</td>\n",
              "      <td>0</td>\n",
              "      <td>0</td>\n",
              "      <td>0</td>\n",
              "      <td>0</td>\n",
              "      <td>0</td>\n",
              "      <td>0</td>\n",
              "    </tr>\n",
              "    <tr>\n",
              "      <th>2</th>\n",
              "      <td>CHEMBL115145</td>\n",
              "      <td>O=C(O)c1cc(Cc2ccc(O)c(C(=O)O)c2)ccc1O</td>\n",
              "      <td>IC50</td>\n",
              "      <td>uM</td>\n",
              "      <td>6.22</td>\n",
              "      <td>active</td>\n",
              "      <td>0</td>\n",
              "      <td>0</td>\n",
              "      <td>0</td>\n",
              "      <td>0</td>\n",
              "      <td>...</td>\n",
              "      <td>0</td>\n",
              "      <td>0</td>\n",
              "      <td>0</td>\n",
              "      <td>0</td>\n",
              "      <td>0</td>\n",
              "      <td>0</td>\n",
              "      <td>0</td>\n",
              "      <td>0</td>\n",
              "      <td>0</td>\n",
              "      <td>0</td>\n",
              "    </tr>\n",
              "    <tr>\n",
              "      <th>3</th>\n",
              "      <td>CHEMBL115145</td>\n",
              "      <td>O=C(O)c1cc(Cc2ccc(O)c(C(=O)O)c2)ccc1O</td>\n",
              "      <td>IC50</td>\n",
              "      <td>uM</td>\n",
              "      <td>7.14</td>\n",
              "      <td>active</td>\n",
              "      <td>0</td>\n",
              "      <td>0</td>\n",
              "      <td>0</td>\n",
              "      <td>0</td>\n",
              "      <td>...</td>\n",
              "      <td>0</td>\n",
              "      <td>0</td>\n",
              "      <td>0</td>\n",
              "      <td>0</td>\n",
              "      <td>0</td>\n",
              "      <td>0</td>\n",
              "      <td>0</td>\n",
              "      <td>0</td>\n",
              "      <td>0</td>\n",
              "      <td>0</td>\n",
              "    </tr>\n",
              "    <tr>\n",
              "      <th>4</th>\n",
              "      <td>CHEMBL115145</td>\n",
              "      <td>O=C(O)c1cc(Cc2ccc(O)c(C(=O)O)c2)ccc1O</td>\n",
              "      <td>IC50</td>\n",
              "      <td>uM</td>\n",
              "      <td>9.46</td>\n",
              "      <td>active</td>\n",
              "      <td>0</td>\n",
              "      <td>0</td>\n",
              "      <td>0</td>\n",
              "      <td>0</td>\n",
              "      <td>...</td>\n",
              "      <td>0</td>\n",
              "      <td>0</td>\n",
              "      <td>0</td>\n",
              "      <td>0</td>\n",
              "      <td>0</td>\n",
              "      <td>0</td>\n",
              "      <td>0</td>\n",
              "      <td>0</td>\n",
              "      <td>0</td>\n",
              "      <td>0</td>\n",
              "    </tr>\n",
              "    <tr>\n",
              "      <th>...</th>\n",
              "      <td>...</td>\n",
              "      <td>...</td>\n",
              "      <td>...</td>\n",
              "      <td>...</td>\n",
              "      <td>...</td>\n",
              "      <td>...</td>\n",
              "      <td>...</td>\n",
              "      <td>...</td>\n",
              "      <td>...</td>\n",
              "      <td>...</td>\n",
              "      <td>...</td>\n",
              "      <td>...</td>\n",
              "      <td>...</td>\n",
              "      <td>...</td>\n",
              "      <td>...</td>\n",
              "      <td>...</td>\n",
              "      <td>...</td>\n",
              "      <td>...</td>\n",
              "      <td>...</td>\n",
              "      <td>...</td>\n",
              "      <td>...</td>\n",
              "    </tr>\n",
              "    <tr>\n",
              "      <th>1299</th>\n",
              "      <td>CHEMBL607576</td>\n",
              "      <td>COc1cc(CNc2ccc(C(=O)O)cc2)ccc1OCc1ccccc1Cl</td>\n",
              "      <td>IC50</td>\n",
              "      <td>uM</td>\n",
              "      <td>100.00</td>\n",
              "      <td>Inactive</td>\n",
              "      <td>0</td>\n",
              "      <td>0</td>\n",
              "      <td>0</td>\n",
              "      <td>1</td>\n",
              "      <td>...</td>\n",
              "      <td>0</td>\n",
              "      <td>0</td>\n",
              "      <td>0</td>\n",
              "      <td>0</td>\n",
              "      <td>0</td>\n",
              "      <td>0</td>\n",
              "      <td>0</td>\n",
              "      <td>0</td>\n",
              "      <td>0</td>\n",
              "      <td>0</td>\n",
              "    </tr>\n",
              "    <tr>\n",
              "      <th>1300</th>\n",
              "      <td>CHEMBL607863</td>\n",
              "      <td>COc1ccc2c(c1)C(CC(=O)O)CN2Cc1ccccc1</td>\n",
              "      <td>IC50</td>\n",
              "      <td>uM</td>\n",
              "      <td>100.00</td>\n",
              "      <td>Inactive</td>\n",
              "      <td>0</td>\n",
              "      <td>0</td>\n",
              "      <td>0</td>\n",
              "      <td>1</td>\n",
              "      <td>...</td>\n",
              "      <td>0</td>\n",
              "      <td>0</td>\n",
              "      <td>0</td>\n",
              "      <td>0</td>\n",
              "      <td>0</td>\n",
              "      <td>1</td>\n",
              "      <td>0</td>\n",
              "      <td>0</td>\n",
              "      <td>0</td>\n",
              "      <td>0</td>\n",
              "    </tr>\n",
              "    <tr>\n",
              "      <th>1301</th>\n",
              "      <td>CHEMBL63883</td>\n",
              "      <td>COc1ccc(NC(=O)c2cc3ccccc3cc2O)cc1</td>\n",
              "      <td>IC50</td>\n",
              "      <td>uM</td>\n",
              "      <td>100.00</td>\n",
              "      <td>Inactive</td>\n",
              "      <td>0</td>\n",
              "      <td>0</td>\n",
              "      <td>0</td>\n",
              "      <td>0</td>\n",
              "      <td>...</td>\n",
              "      <td>0</td>\n",
              "      <td>0</td>\n",
              "      <td>0</td>\n",
              "      <td>0</td>\n",
              "      <td>0</td>\n",
              "      <td>0</td>\n",
              "      <td>0</td>\n",
              "      <td>0</td>\n",
              "      <td>0</td>\n",
              "      <td>0</td>\n",
              "    </tr>\n",
              "    <tr>\n",
              "      <th>1302</th>\n",
              "      <td>CHEMBL66953</td>\n",
              "      <td>O=c1c(O)cccc2cc(O)c(O)c(O)c12</td>\n",
              "      <td>IC50</td>\n",
              "      <td>uM</td>\n",
              "      <td>12.19</td>\n",
              "      <td>active</td>\n",
              "      <td>0</td>\n",
              "      <td>0</td>\n",
              "      <td>0</td>\n",
              "      <td>0</td>\n",
              "      <td>...</td>\n",
              "      <td>0</td>\n",
              "      <td>0</td>\n",
              "      <td>0</td>\n",
              "      <td>0</td>\n",
              "      <td>0</td>\n",
              "      <td>0</td>\n",
              "      <td>0</td>\n",
              "      <td>1</td>\n",
              "      <td>0</td>\n",
              "      <td>0</td>\n",
              "    </tr>\n",
              "    <tr>\n",
              "      <th>1303</th>\n",
              "      <td>CHEMBL8260</td>\n",
              "      <td>O=c1cc(-c2ccccc2)oc2cc(O)c(O)c(O)c12</td>\n",
              "      <td>IC50</td>\n",
              "      <td>uM</td>\n",
              "      <td>35.06</td>\n",
              "      <td>Inactive</td>\n",
              "      <td>0</td>\n",
              "      <td>0</td>\n",
              "      <td>0</td>\n",
              "      <td>0</td>\n",
              "      <td>...</td>\n",
              "      <td>0</td>\n",
              "      <td>0</td>\n",
              "      <td>0</td>\n",
              "      <td>0</td>\n",
              "      <td>0</td>\n",
              "      <td>0</td>\n",
              "      <td>0</td>\n",
              "      <td>0</td>\n",
              "      <td>0</td>\n",
              "      <td>0</td>\n",
              "    </tr>\n",
              "  </tbody>\n",
              "</table>\n",
              "<p>1304 rows × 1030 columns</p>\n",
              "</div>\n",
              "    <div class=\"colab-df-buttons\">\n",
              "\n",
              "  <div class=\"colab-df-container\">\n",
              "    <button class=\"colab-df-convert\" onclick=\"convertToInteractive('df-305a874e-bab8-456a-9f4a-a58e8f833a58')\"\n",
              "            title=\"Convert this dataframe to an interactive table.\"\n",
              "            style=\"display:none;\">\n",
              "\n",
              "  <svg xmlns=\"http://www.w3.org/2000/svg\" height=\"24px\" viewBox=\"0 -960 960 960\">\n",
              "    <path d=\"M120-120v-720h720v720H120Zm60-500h600v-160H180v160Zm220 220h160v-160H400v160Zm0 220h160v-160H400v160ZM180-400h160v-160H180v160Zm440 0h160v-160H620v160ZM180-180h160v-160H180v160Zm440 0h160v-160H620v160Z\"/>\n",
              "  </svg>\n",
              "    </button>\n",
              "\n",
              "  <style>\n",
              "    .colab-df-container {\n",
              "      display:flex;\n",
              "      gap: 12px;\n",
              "    }\n",
              "\n",
              "    .colab-df-convert {\n",
              "      background-color: #E8F0FE;\n",
              "      border: none;\n",
              "      border-radius: 50%;\n",
              "      cursor: pointer;\n",
              "      display: none;\n",
              "      fill: #1967D2;\n",
              "      height: 32px;\n",
              "      padding: 0 0 0 0;\n",
              "      width: 32px;\n",
              "    }\n",
              "\n",
              "    .colab-df-convert:hover {\n",
              "      background-color: #E2EBFA;\n",
              "      box-shadow: 0px 1px 2px rgba(60, 64, 67, 0.3), 0px 1px 3px 1px rgba(60, 64, 67, 0.15);\n",
              "      fill: #174EA6;\n",
              "    }\n",
              "\n",
              "    .colab-df-buttons div {\n",
              "      margin-bottom: 4px;\n",
              "    }\n",
              "\n",
              "    [theme=dark] .colab-df-convert {\n",
              "      background-color: #3B4455;\n",
              "      fill: #D2E3FC;\n",
              "    }\n",
              "\n",
              "    [theme=dark] .colab-df-convert:hover {\n",
              "      background-color: #434B5C;\n",
              "      box-shadow: 0px 1px 3px 1px rgba(0, 0, 0, 0.15);\n",
              "      filter: drop-shadow(0px 1px 2px rgba(0, 0, 0, 0.3));\n",
              "      fill: #FFFFFF;\n",
              "    }\n",
              "  </style>\n",
              "\n",
              "    <script>\n",
              "      const buttonEl =\n",
              "        document.querySelector('#df-305a874e-bab8-456a-9f4a-a58e8f833a58 button.colab-df-convert');\n",
              "      buttonEl.style.display =\n",
              "        google.colab.kernel.accessAllowed ? 'block' : 'none';\n",
              "\n",
              "      async function convertToInteractive(key) {\n",
              "        const element = document.querySelector('#df-305a874e-bab8-456a-9f4a-a58e8f833a58');\n",
              "        const dataTable =\n",
              "          await google.colab.kernel.invokeFunction('convertToInteractive',\n",
              "                                                    [key], {});\n",
              "        if (!dataTable) return;\n",
              "\n",
              "        const docLinkHtml = 'Like what you see? Visit the ' +\n",
              "          '<a target=\"_blank\" href=https://colab.research.google.com/notebooks/data_table.ipynb>data table notebook</a>'\n",
              "          + ' to learn more about interactive tables.';\n",
              "        element.innerHTML = '';\n",
              "        dataTable['output_type'] = 'display_data';\n",
              "        await google.colab.output.renderOutput(dataTable, element);\n",
              "        const docLink = document.createElement('div');\n",
              "        docLink.innerHTML = docLinkHtml;\n",
              "        element.appendChild(docLink);\n",
              "      }\n",
              "    </script>\n",
              "  </div>\n",
              "\n",
              "\n",
              "<div id=\"df-a2038892-c9a7-4f1a-b1eb-9b6c4a7af0cd\">\n",
              "  <button class=\"colab-df-quickchart\" onclick=\"quickchart('df-a2038892-c9a7-4f1a-b1eb-9b6c4a7af0cd')\"\n",
              "            title=\"Suggest charts.\"\n",
              "            style=\"display:none;\">\n",
              "\n",
              "<svg xmlns=\"http://www.w3.org/2000/svg\" height=\"24px\"viewBox=\"0 0 24 24\"\n",
              "     width=\"24px\">\n",
              "    <g>\n",
              "        <path d=\"M19 3H5c-1.1 0-2 .9-2 2v14c0 1.1.9 2 2 2h14c1.1 0 2-.9 2-2V5c0-1.1-.9-2-2-2zM9 17H7v-7h2v7zm4 0h-2V7h2v10zm4 0h-2v-4h2v4z\"/>\n",
              "    </g>\n",
              "</svg>\n",
              "  </button>\n",
              "\n",
              "<style>\n",
              "  .colab-df-quickchart {\n",
              "      --bg-color: #E8F0FE;\n",
              "      --fill-color: #1967D2;\n",
              "      --hover-bg-color: #E2EBFA;\n",
              "      --hover-fill-color: #174EA6;\n",
              "      --disabled-fill-color: #AAA;\n",
              "      --disabled-bg-color: #DDD;\n",
              "  }\n",
              "\n",
              "  [theme=dark] .colab-df-quickchart {\n",
              "      --bg-color: #3B4455;\n",
              "      --fill-color: #D2E3FC;\n",
              "      --hover-bg-color: #434B5C;\n",
              "      --hover-fill-color: #FFFFFF;\n",
              "      --disabled-bg-color: #3B4455;\n",
              "      --disabled-fill-color: #666;\n",
              "  }\n",
              "\n",
              "  .colab-df-quickchart {\n",
              "    background-color: var(--bg-color);\n",
              "    border: none;\n",
              "    border-radius: 50%;\n",
              "    cursor: pointer;\n",
              "    display: none;\n",
              "    fill: var(--fill-color);\n",
              "    height: 32px;\n",
              "    padding: 0;\n",
              "    width: 32px;\n",
              "  }\n",
              "\n",
              "  .colab-df-quickchart:hover {\n",
              "    background-color: var(--hover-bg-color);\n",
              "    box-shadow: 0 1px 2px rgba(60, 64, 67, 0.3), 0 1px 3px 1px rgba(60, 64, 67, 0.15);\n",
              "    fill: var(--button-hover-fill-color);\n",
              "  }\n",
              "\n",
              "  .colab-df-quickchart-complete:disabled,\n",
              "  .colab-df-quickchart-complete:disabled:hover {\n",
              "    background-color: var(--disabled-bg-color);\n",
              "    fill: var(--disabled-fill-color);\n",
              "    box-shadow: none;\n",
              "  }\n",
              "\n",
              "  .colab-df-spinner {\n",
              "    border: 2px solid var(--fill-color);\n",
              "    border-color: transparent;\n",
              "    border-bottom-color: var(--fill-color);\n",
              "    animation:\n",
              "      spin 1s steps(1) infinite;\n",
              "  }\n",
              "\n",
              "  @keyframes spin {\n",
              "    0% {\n",
              "      border-color: transparent;\n",
              "      border-bottom-color: var(--fill-color);\n",
              "      border-left-color: var(--fill-color);\n",
              "    }\n",
              "    20% {\n",
              "      border-color: transparent;\n",
              "      border-left-color: var(--fill-color);\n",
              "      border-top-color: var(--fill-color);\n",
              "    }\n",
              "    30% {\n",
              "      border-color: transparent;\n",
              "      border-left-color: var(--fill-color);\n",
              "      border-top-color: var(--fill-color);\n",
              "      border-right-color: var(--fill-color);\n",
              "    }\n",
              "    40% {\n",
              "      border-color: transparent;\n",
              "      border-right-color: var(--fill-color);\n",
              "      border-top-color: var(--fill-color);\n",
              "    }\n",
              "    60% {\n",
              "      border-color: transparent;\n",
              "      border-right-color: var(--fill-color);\n",
              "    }\n",
              "    80% {\n",
              "      border-color: transparent;\n",
              "      border-right-color: var(--fill-color);\n",
              "      border-bottom-color: var(--fill-color);\n",
              "    }\n",
              "    90% {\n",
              "      border-color: transparent;\n",
              "      border-bottom-color: var(--fill-color);\n",
              "    }\n",
              "  }\n",
              "</style>\n",
              "\n",
              "  <script>\n",
              "    async function quickchart(key) {\n",
              "      const quickchartButtonEl =\n",
              "        document.querySelector('#' + key + ' button');\n",
              "      quickchartButtonEl.disabled = true;  // To prevent multiple clicks.\n",
              "      quickchartButtonEl.classList.add('colab-df-spinner');\n",
              "      try {\n",
              "        const charts = await google.colab.kernel.invokeFunction(\n",
              "            'suggestCharts', [key], {});\n",
              "      } catch (error) {\n",
              "        console.error('Error during call to suggestCharts:', error);\n",
              "      }\n",
              "      quickchartButtonEl.classList.remove('colab-df-spinner');\n",
              "      quickchartButtonEl.classList.add('colab-df-quickchart-complete');\n",
              "    }\n",
              "    (() => {\n",
              "      let quickchartButtonEl =\n",
              "        document.querySelector('#df-a2038892-c9a7-4f1a-b1eb-9b6c4a7af0cd button');\n",
              "      quickchartButtonEl.style.display =\n",
              "        google.colab.kernel.accessAllowed ? 'block' : 'none';\n",
              "    })();\n",
              "  </script>\n",
              "</div>\n",
              "    </div>\n",
              "  </div>\n"
            ]
          },
          "metadata": {},
          "execution_count": 7
        }
      ]
    },
    {
      "cell_type": "code",
      "source": [
        "df['activity'].value_counts()"
      ],
      "metadata": {
        "colab": {
          "base_uri": "https://localhost:8080/"
        },
        "id": "w686cXXYhPlw",
        "outputId": "ec1d823d-e7e9-4636-eabe-e51eebdbcbe5"
      },
      "execution_count": null,
      "outputs": [
        {
          "output_type": "execute_result",
          "data": {
            "text/plain": [
              "Inactive    829\n",
              "active      475\n",
              "Name: activity, dtype: int64"
            ]
          },
          "metadata": {},
          "execution_count": 8
        }
      ]
    },
    {
      "cell_type": "markdown",
      "source": [
        "**Select X and Y variables**"
      ],
      "metadata": {
        "id": "pn-DieNtbwaD"
      }
    },
    {
      "cell_type": "code",
      "source": [
        "X = df.iloc[:, 6:]\n",
        "X"
      ],
      "metadata": {
        "colab": {
          "base_uri": "https://localhost:8080/",
          "height": 443
        },
        "id": "-TdRiYe4a-GW",
        "outputId": "15bdc06d-8503-4914-d154-1c66ff3ddf55"
      },
      "execution_count": null,
      "outputs": [
        {
          "output_type": "execute_result",
          "data": {
            "text/plain": [
              "      Bit_0  Bit_1  Bit_2  Bit_3  Bit_4  Bit_5  Bit_6  Bit_7  Bit_8  Bit_9  \\\n",
              "0         0      0      0      0      0      0      0      0      0      0   \n",
              "1         0      0      0      0      0      0      0      0      0      0   \n",
              "2         0      0      0      0      0      0      0      0      0      0   \n",
              "3         0      0      0      0      0      0      0      0      0      0   \n",
              "4         0      0      0      0      0      0      0      0      0      0   \n",
              "...     ...    ...    ...    ...    ...    ...    ...    ...    ...    ...   \n",
              "1299      0      0      0      1      0      0      0      0      0      0   \n",
              "1300      0      0      0      1      0      0      0      0      0      0   \n",
              "1301      0      0      0      0      0      0      0      0      0      0   \n",
              "1302      0      0      0      0      0      0      0      0      0      0   \n",
              "1303      0      0      0      0      0      0      0      0      0      0   \n",
              "\n",
              "      ...  Bit_1014  Bit_1015  Bit_1016  Bit_1017  Bit_1018  Bit_1019  \\\n",
              "0     ...         0         0         0         0         0         0   \n",
              "1     ...         0         0         0         0         0         0   \n",
              "2     ...         0         0         0         0         0         0   \n",
              "3     ...         0         0         0         0         0         0   \n",
              "4     ...         0         0         0         0         0         0   \n",
              "...   ...       ...       ...       ...       ...       ...       ...   \n",
              "1299  ...         0         0         0         0         0         0   \n",
              "1300  ...         0         0         0         0         0         1   \n",
              "1301  ...         0         0         0         0         0         0   \n",
              "1302  ...         0         0         0         0         0         0   \n",
              "1303  ...         0         0         0         0         0         0   \n",
              "\n",
              "      Bit_1020  Bit_1021  Bit_1022  Bit_1023  \n",
              "0            0         0         0         0  \n",
              "1            0         0         0         0  \n",
              "2            0         0         0         0  \n",
              "3            0         0         0         0  \n",
              "4            0         0         0         0  \n",
              "...        ...       ...       ...       ...  \n",
              "1299         0         0         0         0  \n",
              "1300         0         0         0         0  \n",
              "1301         0         0         0         0  \n",
              "1302         0         1         0         0  \n",
              "1303         0         0         0         0  \n",
              "\n",
              "[1304 rows x 1024 columns]"
            ],
            "text/html": [
              "\n",
              "  <div id=\"df-7cfb4a6c-6867-4e01-b998-58deb8b95fc0\" class=\"colab-df-container\">\n",
              "    <div>\n",
              "<style scoped>\n",
              "    .dataframe tbody tr th:only-of-type {\n",
              "        vertical-align: middle;\n",
              "    }\n",
              "\n",
              "    .dataframe tbody tr th {\n",
              "        vertical-align: top;\n",
              "    }\n",
              "\n",
              "    .dataframe thead th {\n",
              "        text-align: right;\n",
              "    }\n",
              "</style>\n",
              "<table border=\"1\" class=\"dataframe\">\n",
              "  <thead>\n",
              "    <tr style=\"text-align: right;\">\n",
              "      <th></th>\n",
              "      <th>Bit_0</th>\n",
              "      <th>Bit_1</th>\n",
              "      <th>Bit_2</th>\n",
              "      <th>Bit_3</th>\n",
              "      <th>Bit_4</th>\n",
              "      <th>Bit_5</th>\n",
              "      <th>Bit_6</th>\n",
              "      <th>Bit_7</th>\n",
              "      <th>Bit_8</th>\n",
              "      <th>Bit_9</th>\n",
              "      <th>...</th>\n",
              "      <th>Bit_1014</th>\n",
              "      <th>Bit_1015</th>\n",
              "      <th>Bit_1016</th>\n",
              "      <th>Bit_1017</th>\n",
              "      <th>Bit_1018</th>\n",
              "      <th>Bit_1019</th>\n",
              "      <th>Bit_1020</th>\n",
              "      <th>Bit_1021</th>\n",
              "      <th>Bit_1022</th>\n",
              "      <th>Bit_1023</th>\n",
              "    </tr>\n",
              "  </thead>\n",
              "  <tbody>\n",
              "    <tr>\n",
              "      <th>0</th>\n",
              "      <td>0</td>\n",
              "      <td>0</td>\n",
              "      <td>0</td>\n",
              "      <td>0</td>\n",
              "      <td>0</td>\n",
              "      <td>0</td>\n",
              "      <td>0</td>\n",
              "      <td>0</td>\n",
              "      <td>0</td>\n",
              "      <td>0</td>\n",
              "      <td>...</td>\n",
              "      <td>0</td>\n",
              "      <td>0</td>\n",
              "      <td>0</td>\n",
              "      <td>0</td>\n",
              "      <td>0</td>\n",
              "      <td>0</td>\n",
              "      <td>0</td>\n",
              "      <td>0</td>\n",
              "      <td>0</td>\n",
              "      <td>0</td>\n",
              "    </tr>\n",
              "    <tr>\n",
              "      <th>1</th>\n",
              "      <td>0</td>\n",
              "      <td>0</td>\n",
              "      <td>0</td>\n",
              "      <td>0</td>\n",
              "      <td>0</td>\n",
              "      <td>0</td>\n",
              "      <td>0</td>\n",
              "      <td>0</td>\n",
              "      <td>0</td>\n",
              "      <td>0</td>\n",
              "      <td>...</td>\n",
              "      <td>0</td>\n",
              "      <td>0</td>\n",
              "      <td>0</td>\n",
              "      <td>0</td>\n",
              "      <td>0</td>\n",
              "      <td>0</td>\n",
              "      <td>0</td>\n",
              "      <td>0</td>\n",
              "      <td>0</td>\n",
              "      <td>0</td>\n",
              "    </tr>\n",
              "    <tr>\n",
              "      <th>2</th>\n",
              "      <td>0</td>\n",
              "      <td>0</td>\n",
              "      <td>0</td>\n",
              "      <td>0</td>\n",
              "      <td>0</td>\n",
              "      <td>0</td>\n",
              "      <td>0</td>\n",
              "      <td>0</td>\n",
              "      <td>0</td>\n",
              "      <td>0</td>\n",
              "      <td>...</td>\n",
              "      <td>0</td>\n",
              "      <td>0</td>\n",
              "      <td>0</td>\n",
              "      <td>0</td>\n",
              "      <td>0</td>\n",
              "      <td>0</td>\n",
              "      <td>0</td>\n",
              "      <td>0</td>\n",
              "      <td>0</td>\n",
              "      <td>0</td>\n",
              "    </tr>\n",
              "    <tr>\n",
              "      <th>3</th>\n",
              "      <td>0</td>\n",
              "      <td>0</td>\n",
              "      <td>0</td>\n",
              "      <td>0</td>\n",
              "      <td>0</td>\n",
              "      <td>0</td>\n",
              "      <td>0</td>\n",
              "      <td>0</td>\n",
              "      <td>0</td>\n",
              "      <td>0</td>\n",
              "      <td>...</td>\n",
              "      <td>0</td>\n",
              "      <td>0</td>\n",
              "      <td>0</td>\n",
              "      <td>0</td>\n",
              "      <td>0</td>\n",
              "      <td>0</td>\n",
              "      <td>0</td>\n",
              "      <td>0</td>\n",
              "      <td>0</td>\n",
              "      <td>0</td>\n",
              "    </tr>\n",
              "    <tr>\n",
              "      <th>4</th>\n",
              "      <td>0</td>\n",
              "      <td>0</td>\n",
              "      <td>0</td>\n",
              "      <td>0</td>\n",
              "      <td>0</td>\n",
              "      <td>0</td>\n",
              "      <td>0</td>\n",
              "      <td>0</td>\n",
              "      <td>0</td>\n",
              "      <td>0</td>\n",
              "      <td>...</td>\n",
              "      <td>0</td>\n",
              "      <td>0</td>\n",
              "      <td>0</td>\n",
              "      <td>0</td>\n",
              "      <td>0</td>\n",
              "      <td>0</td>\n",
              "      <td>0</td>\n",
              "      <td>0</td>\n",
              "      <td>0</td>\n",
              "      <td>0</td>\n",
              "    </tr>\n",
              "    <tr>\n",
              "      <th>...</th>\n",
              "      <td>...</td>\n",
              "      <td>...</td>\n",
              "      <td>...</td>\n",
              "      <td>...</td>\n",
              "      <td>...</td>\n",
              "      <td>...</td>\n",
              "      <td>...</td>\n",
              "      <td>...</td>\n",
              "      <td>...</td>\n",
              "      <td>...</td>\n",
              "      <td>...</td>\n",
              "      <td>...</td>\n",
              "      <td>...</td>\n",
              "      <td>...</td>\n",
              "      <td>...</td>\n",
              "      <td>...</td>\n",
              "      <td>...</td>\n",
              "      <td>...</td>\n",
              "      <td>...</td>\n",
              "      <td>...</td>\n",
              "      <td>...</td>\n",
              "    </tr>\n",
              "    <tr>\n",
              "      <th>1299</th>\n",
              "      <td>0</td>\n",
              "      <td>0</td>\n",
              "      <td>0</td>\n",
              "      <td>1</td>\n",
              "      <td>0</td>\n",
              "      <td>0</td>\n",
              "      <td>0</td>\n",
              "      <td>0</td>\n",
              "      <td>0</td>\n",
              "      <td>0</td>\n",
              "      <td>...</td>\n",
              "      <td>0</td>\n",
              "      <td>0</td>\n",
              "      <td>0</td>\n",
              "      <td>0</td>\n",
              "      <td>0</td>\n",
              "      <td>0</td>\n",
              "      <td>0</td>\n",
              "      <td>0</td>\n",
              "      <td>0</td>\n",
              "      <td>0</td>\n",
              "    </tr>\n",
              "    <tr>\n",
              "      <th>1300</th>\n",
              "      <td>0</td>\n",
              "      <td>0</td>\n",
              "      <td>0</td>\n",
              "      <td>1</td>\n",
              "      <td>0</td>\n",
              "      <td>0</td>\n",
              "      <td>0</td>\n",
              "      <td>0</td>\n",
              "      <td>0</td>\n",
              "      <td>0</td>\n",
              "      <td>...</td>\n",
              "      <td>0</td>\n",
              "      <td>0</td>\n",
              "      <td>0</td>\n",
              "      <td>0</td>\n",
              "      <td>0</td>\n",
              "      <td>1</td>\n",
              "      <td>0</td>\n",
              "      <td>0</td>\n",
              "      <td>0</td>\n",
              "      <td>0</td>\n",
              "    </tr>\n",
              "    <tr>\n",
              "      <th>1301</th>\n",
              "      <td>0</td>\n",
              "      <td>0</td>\n",
              "      <td>0</td>\n",
              "      <td>0</td>\n",
              "      <td>0</td>\n",
              "      <td>0</td>\n",
              "      <td>0</td>\n",
              "      <td>0</td>\n",
              "      <td>0</td>\n",
              "      <td>0</td>\n",
              "      <td>...</td>\n",
              "      <td>0</td>\n",
              "      <td>0</td>\n",
              "      <td>0</td>\n",
              "      <td>0</td>\n",
              "      <td>0</td>\n",
              "      <td>0</td>\n",
              "      <td>0</td>\n",
              "      <td>0</td>\n",
              "      <td>0</td>\n",
              "      <td>0</td>\n",
              "    </tr>\n",
              "    <tr>\n",
              "      <th>1302</th>\n",
              "      <td>0</td>\n",
              "      <td>0</td>\n",
              "      <td>0</td>\n",
              "      <td>0</td>\n",
              "      <td>0</td>\n",
              "      <td>0</td>\n",
              "      <td>0</td>\n",
              "      <td>0</td>\n",
              "      <td>0</td>\n",
              "      <td>0</td>\n",
              "      <td>...</td>\n",
              "      <td>0</td>\n",
              "      <td>0</td>\n",
              "      <td>0</td>\n",
              "      <td>0</td>\n",
              "      <td>0</td>\n",
              "      <td>0</td>\n",
              "      <td>0</td>\n",
              "      <td>1</td>\n",
              "      <td>0</td>\n",
              "      <td>0</td>\n",
              "    </tr>\n",
              "    <tr>\n",
              "      <th>1303</th>\n",
              "      <td>0</td>\n",
              "      <td>0</td>\n",
              "      <td>0</td>\n",
              "      <td>0</td>\n",
              "      <td>0</td>\n",
              "      <td>0</td>\n",
              "      <td>0</td>\n",
              "      <td>0</td>\n",
              "      <td>0</td>\n",
              "      <td>0</td>\n",
              "      <td>...</td>\n",
              "      <td>0</td>\n",
              "      <td>0</td>\n",
              "      <td>0</td>\n",
              "      <td>0</td>\n",
              "      <td>0</td>\n",
              "      <td>0</td>\n",
              "      <td>0</td>\n",
              "      <td>0</td>\n",
              "      <td>0</td>\n",
              "      <td>0</td>\n",
              "    </tr>\n",
              "  </tbody>\n",
              "</table>\n",
              "<p>1304 rows × 1024 columns</p>\n",
              "</div>\n",
              "    <div class=\"colab-df-buttons\">\n",
              "\n",
              "  <div class=\"colab-df-container\">\n",
              "    <button class=\"colab-df-convert\" onclick=\"convertToInteractive('df-7cfb4a6c-6867-4e01-b998-58deb8b95fc0')\"\n",
              "            title=\"Convert this dataframe to an interactive table.\"\n",
              "            style=\"display:none;\">\n",
              "\n",
              "  <svg xmlns=\"http://www.w3.org/2000/svg\" height=\"24px\" viewBox=\"0 -960 960 960\">\n",
              "    <path d=\"M120-120v-720h720v720H120Zm60-500h600v-160H180v160Zm220 220h160v-160H400v160Zm0 220h160v-160H400v160ZM180-400h160v-160H180v160Zm440 0h160v-160H620v160ZM180-180h160v-160H180v160Zm440 0h160v-160H620v160Z\"/>\n",
              "  </svg>\n",
              "    </button>\n",
              "\n",
              "  <style>\n",
              "    .colab-df-container {\n",
              "      display:flex;\n",
              "      gap: 12px;\n",
              "    }\n",
              "\n",
              "    .colab-df-convert {\n",
              "      background-color: #E8F0FE;\n",
              "      border: none;\n",
              "      border-radius: 50%;\n",
              "      cursor: pointer;\n",
              "      display: none;\n",
              "      fill: #1967D2;\n",
              "      height: 32px;\n",
              "      padding: 0 0 0 0;\n",
              "      width: 32px;\n",
              "    }\n",
              "\n",
              "    .colab-df-convert:hover {\n",
              "      background-color: #E2EBFA;\n",
              "      box-shadow: 0px 1px 2px rgba(60, 64, 67, 0.3), 0px 1px 3px 1px rgba(60, 64, 67, 0.15);\n",
              "      fill: #174EA6;\n",
              "    }\n",
              "\n",
              "    .colab-df-buttons div {\n",
              "      margin-bottom: 4px;\n",
              "    }\n",
              "\n",
              "    [theme=dark] .colab-df-convert {\n",
              "      background-color: #3B4455;\n",
              "      fill: #D2E3FC;\n",
              "    }\n",
              "\n",
              "    [theme=dark] .colab-df-convert:hover {\n",
              "      background-color: #434B5C;\n",
              "      box-shadow: 0px 1px 3px 1px rgba(0, 0, 0, 0.15);\n",
              "      filter: drop-shadow(0px 1px 2px rgba(0, 0, 0, 0.3));\n",
              "      fill: #FFFFFF;\n",
              "    }\n",
              "  </style>\n",
              "\n",
              "    <script>\n",
              "      const buttonEl =\n",
              "        document.querySelector('#df-7cfb4a6c-6867-4e01-b998-58deb8b95fc0 button.colab-df-convert');\n",
              "      buttonEl.style.display =\n",
              "        google.colab.kernel.accessAllowed ? 'block' : 'none';\n",
              "\n",
              "      async function convertToInteractive(key) {\n",
              "        const element = document.querySelector('#df-7cfb4a6c-6867-4e01-b998-58deb8b95fc0');\n",
              "        const dataTable =\n",
              "          await google.colab.kernel.invokeFunction('convertToInteractive',\n",
              "                                                    [key], {});\n",
              "        if (!dataTable) return;\n",
              "\n",
              "        const docLinkHtml = 'Like what you see? Visit the ' +\n",
              "          '<a target=\"_blank\" href=https://colab.research.google.com/notebooks/data_table.ipynb>data table notebook</a>'\n",
              "          + ' to learn more about interactive tables.';\n",
              "        element.innerHTML = '';\n",
              "        dataTable['output_type'] = 'display_data';\n",
              "        await google.colab.output.renderOutput(dataTable, element);\n",
              "        const docLink = document.createElement('div');\n",
              "        docLink.innerHTML = docLinkHtml;\n",
              "        element.appendChild(docLink);\n",
              "      }\n",
              "    </script>\n",
              "  </div>\n",
              "\n",
              "\n",
              "<div id=\"df-a6ecdf03-2873-44f8-9f00-87b71861e268\">\n",
              "  <button class=\"colab-df-quickchart\" onclick=\"quickchart('df-a6ecdf03-2873-44f8-9f00-87b71861e268')\"\n",
              "            title=\"Suggest charts.\"\n",
              "            style=\"display:none;\">\n",
              "\n",
              "<svg xmlns=\"http://www.w3.org/2000/svg\" height=\"24px\"viewBox=\"0 0 24 24\"\n",
              "     width=\"24px\">\n",
              "    <g>\n",
              "        <path d=\"M19 3H5c-1.1 0-2 .9-2 2v14c0 1.1.9 2 2 2h14c1.1 0 2-.9 2-2V5c0-1.1-.9-2-2-2zM9 17H7v-7h2v7zm4 0h-2V7h2v10zm4 0h-2v-4h2v4z\"/>\n",
              "    </g>\n",
              "</svg>\n",
              "  </button>\n",
              "\n",
              "<style>\n",
              "  .colab-df-quickchart {\n",
              "      --bg-color: #E8F0FE;\n",
              "      --fill-color: #1967D2;\n",
              "      --hover-bg-color: #E2EBFA;\n",
              "      --hover-fill-color: #174EA6;\n",
              "      --disabled-fill-color: #AAA;\n",
              "      --disabled-bg-color: #DDD;\n",
              "  }\n",
              "\n",
              "  [theme=dark] .colab-df-quickchart {\n",
              "      --bg-color: #3B4455;\n",
              "      --fill-color: #D2E3FC;\n",
              "      --hover-bg-color: #434B5C;\n",
              "      --hover-fill-color: #FFFFFF;\n",
              "      --disabled-bg-color: #3B4455;\n",
              "      --disabled-fill-color: #666;\n",
              "  }\n",
              "\n",
              "  .colab-df-quickchart {\n",
              "    background-color: var(--bg-color);\n",
              "    border: none;\n",
              "    border-radius: 50%;\n",
              "    cursor: pointer;\n",
              "    display: none;\n",
              "    fill: var(--fill-color);\n",
              "    height: 32px;\n",
              "    padding: 0;\n",
              "    width: 32px;\n",
              "  }\n",
              "\n",
              "  .colab-df-quickchart:hover {\n",
              "    background-color: var(--hover-bg-color);\n",
              "    box-shadow: 0 1px 2px rgba(60, 64, 67, 0.3), 0 1px 3px 1px rgba(60, 64, 67, 0.15);\n",
              "    fill: var(--button-hover-fill-color);\n",
              "  }\n",
              "\n",
              "  .colab-df-quickchart-complete:disabled,\n",
              "  .colab-df-quickchart-complete:disabled:hover {\n",
              "    background-color: var(--disabled-bg-color);\n",
              "    fill: var(--disabled-fill-color);\n",
              "    box-shadow: none;\n",
              "  }\n",
              "\n",
              "  .colab-df-spinner {\n",
              "    border: 2px solid var(--fill-color);\n",
              "    border-color: transparent;\n",
              "    border-bottom-color: var(--fill-color);\n",
              "    animation:\n",
              "      spin 1s steps(1) infinite;\n",
              "  }\n",
              "\n",
              "  @keyframes spin {\n",
              "    0% {\n",
              "      border-color: transparent;\n",
              "      border-bottom-color: var(--fill-color);\n",
              "      border-left-color: var(--fill-color);\n",
              "    }\n",
              "    20% {\n",
              "      border-color: transparent;\n",
              "      border-left-color: var(--fill-color);\n",
              "      border-top-color: var(--fill-color);\n",
              "    }\n",
              "    30% {\n",
              "      border-color: transparent;\n",
              "      border-left-color: var(--fill-color);\n",
              "      border-top-color: var(--fill-color);\n",
              "      border-right-color: var(--fill-color);\n",
              "    }\n",
              "    40% {\n",
              "      border-color: transparent;\n",
              "      border-right-color: var(--fill-color);\n",
              "      border-top-color: var(--fill-color);\n",
              "    }\n",
              "    60% {\n",
              "      border-color: transparent;\n",
              "      border-right-color: var(--fill-color);\n",
              "    }\n",
              "    80% {\n",
              "      border-color: transparent;\n",
              "      border-right-color: var(--fill-color);\n",
              "      border-bottom-color: var(--fill-color);\n",
              "    }\n",
              "    90% {\n",
              "      border-color: transparent;\n",
              "      border-bottom-color: var(--fill-color);\n",
              "    }\n",
              "  }\n",
              "</style>\n",
              "\n",
              "  <script>\n",
              "    async function quickchart(key) {\n",
              "      const quickchartButtonEl =\n",
              "        document.querySelector('#' + key + ' button');\n",
              "      quickchartButtonEl.disabled = true;  // To prevent multiple clicks.\n",
              "      quickchartButtonEl.classList.add('colab-df-spinner');\n",
              "      try {\n",
              "        const charts = await google.colab.kernel.invokeFunction(\n",
              "            'suggestCharts', [key], {});\n",
              "      } catch (error) {\n",
              "        console.error('Error during call to suggestCharts:', error);\n",
              "      }\n",
              "      quickchartButtonEl.classList.remove('colab-df-spinner');\n",
              "      quickchartButtonEl.classList.add('colab-df-quickchart-complete');\n",
              "    }\n",
              "    (() => {\n",
              "      let quickchartButtonEl =\n",
              "        document.querySelector('#df-a6ecdf03-2873-44f8-9f00-87b71861e268 button');\n",
              "      quickchartButtonEl.style.display =\n",
              "        google.colab.kernel.accessAllowed ? 'block' : 'none';\n",
              "    })();\n",
              "  </script>\n",
              "</div>\n",
              "    </div>\n",
              "  </div>\n"
            ]
          },
          "metadata": {},
          "execution_count": 9
        }
      ]
    },
    {
      "cell_type": "code",
      "source": [
        "from sklearn.preprocessing import LabelEncoder\n",
        "class_le = LabelEncoder()\n",
        "y = class_le.fit_transform(df['activity'].values)\n",
        "y[:10]"
      ],
      "metadata": {
        "colab": {
          "base_uri": "https://localhost:8080/"
        },
        "id": "pLvk38_Va-BX",
        "outputId": "0835c800-ae75-4ed4-f568-038f78c4b32d"
      },
      "execution_count": null,
      "outputs": [
        {
          "output_type": "execute_result",
          "data": {
            "text/plain": [
              "array([1, 1, 1, 1, 1, 1, 0, 0, 0, 0])"
            ]
          },
          "metadata": {},
          "execution_count": 10
        }
      ]
    },
    {
      "cell_type": "markdown",
      "source": [
        "## **Split the data**"
      ],
      "metadata": {
        "id": "ecDAEB0QZrk3"
      }
    },
    {
      "cell_type": "code",
      "source": [
        "from sklearn.model_selection import train_test_split, StratifiedKFold, GridSearchCV, cross_val_score\n",
        "from sklearn.metrics import classification_report, confusion_matrix, roc_curve, roc_auc_score, balanced_accuracy_score, matthews_corrcoef"
      ],
      "metadata": {
        "id": "6kzttr85_lp2"
      },
      "execution_count": null,
      "outputs": []
    },
    {
      "cell_type": "code",
      "source": [
        "X_train, X_test, y_train, y_test = train_test_split(X, y, test_size=0.2, random_state=10, stratify=y)"
      ],
      "metadata": {
        "id": "MFaMlhJka92X"
      },
      "execution_count": null,
      "outputs": []
    },
    {
      "cell_type": "code",
      "source": [
        "X_train.shape, X_test.shape"
      ],
      "metadata": {
        "colab": {
          "base_uri": "https://localhost:8080/"
        },
        "id": "x2NFmgGzcmH2",
        "outputId": "4684703c-645b-4504-bb20-e45b70648f50"
      },
      "execution_count": null,
      "outputs": [
        {
          "output_type": "execute_result",
          "data": {
            "text/plain": [
              "((1043, 1024), (261, 1024))"
            ]
          },
          "metadata": {},
          "execution_count": 13
        }
      ]
    },
    {
      "cell_type": "markdown",
      "source": [
        "# **1. Random forest**"
      ],
      "metadata": {
        "id": "-ZclMiiq0mnN"
      }
    },
    {
      "cell_type": "markdown",
      "source": [
        "## **Model building**"
      ],
      "metadata": {
        "id": "npoBFzwV4dVp"
      }
    },
    {
      "cell_type": "code",
      "source": [
        "from sklearn.ensemble import RandomForestClassifier"
      ],
      "metadata": {
        "id": "dRl4tzPHa-Iy"
      },
      "execution_count": null,
      "outputs": []
    },
    {
      "cell_type": "code",
      "source": [
        "# 1024\n",
        "Rf = RandomForestClassifier(n_estimators=400, max_features='log2', max_depth= 50, min_samples_leaf=1, criterion='entropy', random_state=4)"
      ],
      "metadata": {
        "id": "hGneVJfScl6_"
      },
      "execution_count": null,
      "outputs": []
    },
    {
      "cell_type": "code",
      "source": [
        "# 2048\n",
        "#Rf = RandomForestClassifier(n_estimators=300, max_depth= 60, min_samples_leaf=2, criterion='entropy', random_state=4)"
      ],
      "metadata": {
        "id": "JVSytTtCOCKi"
      },
      "execution_count": null,
      "outputs": []
    },
    {
      "cell_type": "code",
      "source": [
        "Rf.fit(X_train, y_train)"
      ],
      "metadata": {
        "colab": {
          "base_uri": "https://localhost:8080/",
          "height": 92
        },
        "id": "bIvsFmWgcl4M",
        "outputId": "33d98c46-d938-49f0-b40e-3d898d9550c1"
      },
      "execution_count": null,
      "outputs": [
        {
          "output_type": "execute_result",
          "data": {
            "text/plain": [
              "RandomForestClassifier(criterion='entropy', max_depth=50, max_features='log2',\n",
              "                       n_estimators=400, random_state=4)"
            ],
            "text/html": [
              "<style>#sk-container-id-1 {color: black;background-color: white;}#sk-container-id-1 pre{padding: 0;}#sk-container-id-1 div.sk-toggleable {background-color: white;}#sk-container-id-1 label.sk-toggleable__label {cursor: pointer;display: block;width: 100%;margin-bottom: 0;padding: 0.3em;box-sizing: border-box;text-align: center;}#sk-container-id-1 label.sk-toggleable__label-arrow:before {content: \"▸\";float: left;margin-right: 0.25em;color: #696969;}#sk-container-id-1 label.sk-toggleable__label-arrow:hover:before {color: black;}#sk-container-id-1 div.sk-estimator:hover label.sk-toggleable__label-arrow:before {color: black;}#sk-container-id-1 div.sk-toggleable__content {max-height: 0;max-width: 0;overflow: hidden;text-align: left;background-color: #f0f8ff;}#sk-container-id-1 div.sk-toggleable__content pre {margin: 0.2em;color: black;border-radius: 0.25em;background-color: #f0f8ff;}#sk-container-id-1 input.sk-toggleable__control:checked~div.sk-toggleable__content {max-height: 200px;max-width: 100%;overflow: auto;}#sk-container-id-1 input.sk-toggleable__control:checked~label.sk-toggleable__label-arrow:before {content: \"▾\";}#sk-container-id-1 div.sk-estimator input.sk-toggleable__control:checked~label.sk-toggleable__label {background-color: #d4ebff;}#sk-container-id-1 div.sk-label input.sk-toggleable__control:checked~label.sk-toggleable__label {background-color: #d4ebff;}#sk-container-id-1 input.sk-hidden--visually {border: 0;clip: rect(1px 1px 1px 1px);clip: rect(1px, 1px, 1px, 1px);height: 1px;margin: -1px;overflow: hidden;padding: 0;position: absolute;width: 1px;}#sk-container-id-1 div.sk-estimator {font-family: monospace;background-color: #f0f8ff;border: 1px dotted black;border-radius: 0.25em;box-sizing: border-box;margin-bottom: 0.5em;}#sk-container-id-1 div.sk-estimator:hover {background-color: #d4ebff;}#sk-container-id-1 div.sk-parallel-item::after {content: \"\";width: 100%;border-bottom: 1px solid gray;flex-grow: 1;}#sk-container-id-1 div.sk-label:hover label.sk-toggleable__label {background-color: #d4ebff;}#sk-container-id-1 div.sk-serial::before {content: \"\";position: absolute;border-left: 1px solid gray;box-sizing: border-box;top: 0;bottom: 0;left: 50%;z-index: 0;}#sk-container-id-1 div.sk-serial {display: flex;flex-direction: column;align-items: center;background-color: white;padding-right: 0.2em;padding-left: 0.2em;position: relative;}#sk-container-id-1 div.sk-item {position: relative;z-index: 1;}#sk-container-id-1 div.sk-parallel {display: flex;align-items: stretch;justify-content: center;background-color: white;position: relative;}#sk-container-id-1 div.sk-item::before, #sk-container-id-1 div.sk-parallel-item::before {content: \"\";position: absolute;border-left: 1px solid gray;box-sizing: border-box;top: 0;bottom: 0;left: 50%;z-index: -1;}#sk-container-id-1 div.sk-parallel-item {display: flex;flex-direction: column;z-index: 1;position: relative;background-color: white;}#sk-container-id-1 div.sk-parallel-item:first-child::after {align-self: flex-end;width: 50%;}#sk-container-id-1 div.sk-parallel-item:last-child::after {align-self: flex-start;width: 50%;}#sk-container-id-1 div.sk-parallel-item:only-child::after {width: 0;}#sk-container-id-1 div.sk-dashed-wrapped {border: 1px dashed gray;margin: 0 0.4em 0.5em 0.4em;box-sizing: border-box;padding-bottom: 0.4em;background-color: white;}#sk-container-id-1 div.sk-label label {font-family: monospace;font-weight: bold;display: inline-block;line-height: 1.2em;}#sk-container-id-1 div.sk-label-container {text-align: center;}#sk-container-id-1 div.sk-container {/* jupyter's `normalize.less` sets `[hidden] { display: none; }` but bootstrap.min.css set `[hidden] { display: none !important; }` so we also need the `!important` here to be able to override the default hidden behavior on the sphinx rendered scikit-learn.org. See: https://github.com/scikit-learn/scikit-learn/issues/21755 */display: inline-block !important;position: relative;}#sk-container-id-1 div.sk-text-repr-fallback {display: none;}</style><div id=\"sk-container-id-1\" class=\"sk-top-container\"><div class=\"sk-text-repr-fallback\"><pre>RandomForestClassifier(criterion=&#x27;entropy&#x27;, max_depth=50, max_features=&#x27;log2&#x27;,\n",
              "                       n_estimators=400, random_state=4)</pre><b>In a Jupyter environment, please rerun this cell to show the HTML representation or trust the notebook. <br />On GitHub, the HTML representation is unable to render, please try loading this page with nbviewer.org.</b></div><div class=\"sk-container\" hidden><div class=\"sk-item\"><div class=\"sk-estimator sk-toggleable\"><input class=\"sk-toggleable__control sk-hidden--visually\" id=\"sk-estimator-id-1\" type=\"checkbox\" checked><label for=\"sk-estimator-id-1\" class=\"sk-toggleable__label sk-toggleable__label-arrow\">RandomForestClassifier</label><div class=\"sk-toggleable__content\"><pre>RandomForestClassifier(criterion=&#x27;entropy&#x27;, max_depth=50, max_features=&#x27;log2&#x27;,\n",
              "                       n_estimators=400, random_state=4)</pre></div></div></div></div></div>"
            ]
          },
          "metadata": {},
          "execution_count": 17
        }
      ]
    },
    {
      "cell_type": "code",
      "source": [
        "preds_train = Rf.predict(X_train)\n",
        "preds_Rf = Rf.predict(X_test)"
      ],
      "metadata": {
        "id": "svvm5cSrcl12"
      },
      "execution_count": null,
      "outputs": []
    },
    {
      "cell_type": "code",
      "source": [
        "#labels back\n",
        "class_le.inverse_transform(preds_Rf)[:10]"
      ],
      "metadata": {
        "id": "QLM3kLfTy9-7",
        "colab": {
          "base_uri": "https://localhost:8080/"
        },
        "outputId": "3e61d7ff-9344-4aaa-9342-d321c62318a1"
      },
      "execution_count": null,
      "outputs": [
        {
          "output_type": "execute_result",
          "data": {
            "text/plain": [
              "array(['Inactive', 'Inactive', 'Inactive', 'Inactive', 'Inactive',\n",
              "       'Inactive', 'active', 'Inactive', 'Inactive', 'Inactive'],\n",
              "      dtype=object)"
            ]
          },
          "metadata": {},
          "execution_count": 19
        }
      ]
    },
    {
      "cell_type": "code",
      "source": [
        "preds_Rf[:10]"
      ],
      "metadata": {
        "colab": {
          "base_uri": "https://localhost:8080/"
        },
        "id": "Zm3TziOe0FBo",
        "outputId": "aa7c597c-8c0c-437e-d268-5be112066ac4"
      },
      "execution_count": null,
      "outputs": [
        {
          "output_type": "execute_result",
          "data": {
            "text/plain": [
              "array([0, 0, 0, 0, 0, 0, 1, 0, 0, 0])"
            ]
          },
          "metadata": {},
          "execution_count": 20
        }
      ]
    },
    {
      "cell_type": "markdown",
      "source": [
        "## **Model evaluation**"
      ],
      "metadata": {
        "id": "XFJXidi7dAMO"
      }
    },
    {
      "cell_type": "code",
      "source": [
        "print('Confusion matrix: ','\\n', confusion_matrix(y_test, preds_Rf))\n",
        "print('\\n')\n",
        "print('Classification report', '\\n', classification_report(y_test, preds_Rf))"
      ],
      "metadata": {
        "colab": {
          "base_uri": "https://localhost:8080/"
        },
        "id": "S91olmXETt_Y",
        "outputId": "9e68504a-78e7-4749-bea9-951cbfed91c8"
      },
      "execution_count": null,
      "outputs": [
        {
          "output_type": "stream",
          "name": "stdout",
          "text": [
            "Confusion matrix:  \n",
            " [[159   7]\n",
            " [ 30  65]]\n",
            "\n",
            "\n",
            "Classification report \n",
            "               precision    recall  f1-score   support\n",
            "\n",
            "           0       0.84      0.96      0.90       166\n",
            "           1       0.90      0.68      0.78        95\n",
            "\n",
            "    accuracy                           0.86       261\n",
            "   macro avg       0.87      0.82      0.84       261\n",
            "weighted avg       0.86      0.86      0.85       261\n",
            "\n"
          ]
        }
      ]
    },
    {
      "cell_type": "code",
      "source": [
        "# Test the model on the testing set\n",
        "Rf_train_accuracy = Rf.score(X_train, y_train)\n",
        "Rf_test_accuracy = Rf.score(X_test, y_test)\n",
        "\n",
        "print(\"Training accuracy:\", Rf_train_accuracy)\n",
        "print(\"Testing accuracy:\", Rf_test_accuracy)"
      ],
      "metadata": {
        "id": "u1owMnMyTd3q",
        "colab": {
          "base_uri": "https://localhost:8080/"
        },
        "outputId": "9f144fb0-a45f-4936-bc62-b16a35506926"
      },
      "execution_count": null,
      "outputs": [
        {
          "output_type": "stream",
          "name": "stdout",
          "text": [
            "Training accuracy: 0.9779482262703739\n",
            "Testing accuracy: 0.8582375478927203\n"
          ]
        }
      ]
    },
    {
      "cell_type": "code",
      "source": [
        "print(\"Balanced accuracy:\", balanced_accuracy_score(y_test, preds_Rf))\n",
        "print(\"Matthews correlation coefficient (MCC):\", matthews_corrcoef(y_test, preds_Rf))"
      ],
      "metadata": {
        "colab": {
          "base_uri": "https://localhost:8080/"
        },
        "id": "5VZ2mOJTzLUO",
        "outputId": "959c715b-5edc-46b6-d38d-fcd4dd427e09"
      },
      "execution_count": null,
      "outputs": [
        {
          "output_type": "stream",
          "name": "stdout",
          "text": [
            "Balanced accuracy: 0.8210209258084972\n",
            "Matthews correlation coefficient (MCC): 0.6911654729690635\n"
          ]
        }
      ]
    },
    {
      "cell_type": "markdown",
      "source": [
        "## **Hyperparameters tuning**"
      ],
      "metadata": {
        "id": "uh3JBzhc7MuN"
      }
    },
    {
      "cell_type": "markdown",
      "source": [
        "Stratified cross validation will be used to find the best parameters for the classifier"
      ],
      "metadata": {
        "id": "U1zz6kYpB2E9"
      }
    },
    {
      "cell_type": "code",
      "source": [
        "grid = {\n",
        "    'n_estimators': [100, 200, 300, 400],\n",
        "    'max_features': ['sqrt', 'log2', 200],\n",
        "    'max_depth': [5, 10, 20, 30, 40, 50],\n",
        "    'min_samples_leaf': [1, 2, 3, 4, 5]\n",
        "}\n",
        "\n",
        "skf = StratifiedKFold(n_splits=5, shuffle=True, random_state=42)\n",
        "\n",
        "rf = RandomForestClassifier()\n",
        "\n",
        "grid_search = GridSearchCV(rf, param_grid=grid, cv=skf)\n",
        "\n",
        "grid_search.fit(X, y)\n",
        "\n",
        "best_rf = grid_search.best_estimator_\n",
        "\n",
        "scores_rf = cross_val_score(best_rf, X, y, cv=skf)\n",
        "\n",
        "print('Best parameters: ', grid_search.best_params_)\n",
        "\n",
        "print('Cross-validation scores:', scores_rf)\n",
        "print('Mean score:', np.mean(scores_rf))\n",
        "\n",
        "print('Best score: ', grid_search.best_score_)"
      ],
      "metadata": {
        "id": "ewg_LK1OvAas",
        "colab": {
          "base_uri": "https://localhost:8080/"
        },
        "outputId": "07d5177b-4107-4252-e587-f7cfd39227ac"
      },
      "execution_count": null,
      "outputs": [
        {
          "output_type": "stream",
          "name": "stdout",
          "text": [
            "Best parameters:  {'max_depth': 50, 'max_features': 'log2', 'min_samples_leaf': 1, 'n_estimators': 400}\n",
            "Cross-validation scores: [0.81992337 0.8467433  0.89655172 0.86590038 0.82692308]\n",
            "Mean score: 0.8512083701738874\n",
            "Best score:  0.8527379899793692\n"
          ]
        }
      ]
    },
    {
      "cell_type": "markdown",
      "source": [
        "## **ROC curve**"
      ],
      "metadata": {
        "id": "DLaYnz13sniP"
      }
    },
    {
      "cell_type": "code",
      "source": [
        "y_pred_proba_Rf = Rf.predict_proba(X_test)[:,1]\n",
        "fpr_Rf, tpr_Rf, thresholds_Rf = roc_curve(y_test, y_pred_proba_Rf)\n",
        "auc_Rf = roc_auc_score(y_test, y_pred_proba_Rf)\n",
        "\n",
        "plt.rc('font', size=12)\n",
        "plt.plot(fpr_Rf, tpr_Rf, label='Random forest (AUC= %.2f)' % (auc_Rf))\n",
        "plt.plot([0, 1], [0, 1],'k')\n",
        "plt.xlim([0, 1])\n",
        "plt.ylim([0, 1])\n",
        "plt.xlabel('False Positive Rate')\n",
        "plt.ylabel('True Positive Rate')\n",
        "plt.title('ROC curve')\n",
        "plt.legend()"
      ],
      "metadata": {
        "id": "nXRtvt9IyJEk",
        "colab": {
          "base_uri": "https://localhost:8080/",
          "height": 499
        },
        "outputId": "fc7dfb31-7eaa-4497-9840-9b635a8a7be3"
      },
      "execution_count": null,
      "outputs": [
        {
          "output_type": "execute_result",
          "data": {
            "text/plain": [
              "<matplotlib.legend.Legend at 0x7d21ccc9f7f0>"
            ]
          },
          "metadata": {},
          "execution_count": 24
        },
        {
          "output_type": "display_data",
          "data": {
            "text/plain": [
              "<Figure size 640x480 with 1 Axes>"
            ],
            "image/png": "[encoded data removed]"
          },
          "metadata": {}
        }
      ]
    },
    {
      "cell_type": "markdown",
      "source": [
        "# **Learning curve**"
      ],
      "metadata": {
        "id": "-MM6RplS4-Kv"
      }
    },
    {
      "cell_type": "code",
      "source": [
        "from sklearn.model_selection import learning_curve\n",
        "\n",
        "# Generate the learning curve\n",
        "train_sizes, train_scores, test_scores = learning_curve(\n",
        "    Rf, X, y, cv=10, scoring='accuracy')\n",
        "\n",
        "# Calculate the mean and standard deviation of the training scores\n",
        "train_mean = np.mean(train_scores, axis=1)\n",
        "train_std = np.std(train_scores, axis=1)\n",
        "\n",
        "# Calculate the mean and standard deviation of the test scores\n",
        "test_mean = np.mean(test_scores, axis=1)\n",
        "test_std = np.std(test_scores, axis=1)\n",
        "\n",
        "# Plot\n",
        "plt.rc('font', size=12)\n",
        "plt.plot(train_sizes, train_mean, label='Training score')\n",
        "plt.plot(train_sizes, test_mean, label='Cross-validation score')\n",
        "plt.fill_between(train_sizes, train_mean - train_std, train_mean + train_std, alpha=0.1)\n",
        "plt.fill_between(train_sizes, test_mean - test_std, test_mean + test_std, alpha=0.1)\n",
        "plt.xlabel('Number of training samples')\n",
        "plt.ylabel('Accuracy score')\n",
        "plt.title('Learning Curve for Random Forest Classifier')\n",
        "plt.legend(loc='best')"
      ],
      "metadata": {
        "id": "l4U7ItuI5Bn0"
      },
      "execution_count": null,
      "outputs": []
    },
    {
      "cell_type": "markdown",
      "source": [
        "## **Save the model**"
      ],
      "metadata": {
        "id": "a7CsGZwKLEon"
      }
    },
    {
      "cell_type": "code",
      "source": [
        "import pickle\n",
        "\n",
        "with open('Rf_model.pkl', 'wb') as f:\n",
        "    pickle.dump(Rf, f)\n",
        "\n",
        "# Load the model from the uploaded file\n",
        "# import pickle\n",
        "# with open('/content/Rf_model.pkl', 'rb') as f:\n",
        "#     model = pickle.load(f)"
      ],
      "metadata": {
        "id": "KkBGo6QVLJIj"
      },
      "execution_count": null,
      "outputs": []
    },
    {
      "cell_type": "markdown",
      "source": [
        "# **2. XGBoost models**"
      ],
      "metadata": {
        "id": "IFvBnVfqfGCt"
      }
    },
    {
      "cell_type": "code",
      "source": [
        "from xgboost import XGBClassifier"
      ],
      "metadata": {
        "id": "Kppniw0x-VAd"
      },
      "execution_count": null,
      "outputs": []
    },
    {
      "cell_type": "code",
      "source": [
        "# 1024\n",
        "xgb = XGBClassifier(n_estimators=200, max_depth=9, learning_rate= 0.5, min_child_weight=0)"
      ],
      "metadata": {
        "id": "eFngj0oyO0DS"
      },
      "execution_count": null,
      "outputs": []
    },
    {
      "cell_type": "code",
      "source": [
        "# 2048\n",
        "#xgb = XGBClassifier(n_estimators=200, max_depth=9, learning_rate= 0.05)"
      ],
      "metadata": {
        "id": "rBZutaq8Oa-x"
      },
      "execution_count": null,
      "outputs": []
    },
    {
      "cell_type": "code",
      "source": [
        "xgb.fit(X_train, y_train)"
      ],
      "metadata": {
        "id": "0U62XQeDfQ3i",
        "colab": {
          "base_uri": "https://localhost:8080/",
          "height": 248
        },
        "outputId": "345aed6e-2a16-4a3b-86eb-39360ad4f121"
      },
      "execution_count": null,
      "outputs": [
        {
          "output_type": "execute_result",
          "data": {
            "text/plain": [
              "XGBClassifier(base_score=None, booster=None, callbacks=None,\n",
              "              colsample_bylevel=None, colsample_bynode=None,\n",
              "              colsample_bytree=None, early_stopping_rounds=None,\n",
              "              enable_categorical=False, eval_metric=None, feature_types=None,\n",
              "              gamma=None, gpu_id=None, grow_policy=None, importance_type=None,\n",
              "              interaction_constraints=None, learning_rate=0.5, max_bin=None,\n",
              "              max_cat_threshold=None, max_cat_to_onehot=None,\n",
              "              max_delta_step=None, max_depth=9, max_leaves=None,\n",
              "              min_child_weight=0, missing=nan, monotone_constraints=None,\n",
              "              n_estimators=200, n_jobs=None, num_parallel_tree=None,\n",
              "              predictor=None, random_state=None, ...)"
            ],
            "text/html": [
              "<style>#sk-container-id-4 {color: black;background-color: white;}#sk-container-id-4 pre{padding: 0;}#sk-container-id-4 div.sk-toggleable {background-color: white;}#sk-container-id-4 label.sk-toggleable__label {cursor: pointer;display: block;width: 100%;margin-bottom: 0;padding: 0.3em;box-sizing: border-box;text-align: center;}#sk-container-id-4 label.sk-toggleable__label-arrow:before {content: \"▸\";float: left;margin-right: 0.25em;color: #696969;}#sk-container-id-4 label.sk-toggleable__label-arrow:hover:before {color: black;}#sk-container-id-4 div.sk-estimator:hover label.sk-toggleable__label-arrow:before {color: black;}#sk-container-id-4 div.sk-toggleable__content {max-height: 0;max-width: 0;overflow: hidden;text-align: left;background-color: #f0f8ff;}#sk-container-id-4 div.sk-toggleable__content pre {margin: 0.2em;color: black;border-radius: 0.25em;background-color: #f0f8ff;}#sk-container-id-4 input.sk-toggleable__control:checked~div.sk-toggleable__content {max-height: 200px;max-width: 100%;overflow: auto;}#sk-container-id-4 input.sk-toggleable__control:checked~label.sk-toggleable__label-arrow:before {content: \"▾\";}#sk-container-id-4 div.sk-estimator input.sk-toggleable__control:checked~label.sk-toggleable__label {background-color: #d4ebff;}#sk-container-id-4 div.sk-label input.sk-toggleable__control:checked~label.sk-toggleable__label {background-color: #d4ebff;}#sk-container-id-4 input.sk-hidden--visually {border: 0;clip: rect(1px 1px 1px 1px);clip: rect(1px, 1px, 1px, 1px);height: 1px;margin: -1px;overflow: hidden;padding: 0;position: absolute;width: 1px;}#sk-container-id-4 div.sk-estimator {font-family: monospace;background-color: #f0f8ff;border: 1px dotted black;border-radius: 0.25em;box-sizing: border-box;margin-bottom: 0.5em;}#sk-container-id-4 div.sk-estimator:hover {background-color: #d4ebff;}#sk-container-id-4 div.sk-parallel-item::after {content: \"\";width: 100%;border-bottom: 1px solid gray;flex-grow: 1;}#sk-container-id-4 div.sk-label:hover label.sk-toggleable__label {background-color: #d4ebff;}#sk-container-id-4 div.sk-serial::before {content: \"\";position: absolute;border-left: 1px solid gray;box-sizing: border-box;top: 0;bottom: 0;left: 50%;z-index: 0;}#sk-container-id-4 div.sk-serial {display: flex;flex-direction: column;align-items: center;background-color: white;padding-right: 0.2em;padding-left: 0.2em;position: relative;}#sk-container-id-4 div.sk-item {position: relative;z-index: 1;}#sk-container-id-4 div.sk-parallel {display: flex;align-items: stretch;justify-content: center;background-color: white;position: relative;}#sk-container-id-4 div.sk-item::before, #sk-container-id-4 div.sk-parallel-item::before {content: \"\";position: absolute;border-left: 1px solid gray;box-sizing: border-box;top: 0;bottom: 0;left: 50%;z-index: -1;}#sk-container-id-4 div.sk-parallel-item {display: flex;flex-direction: column;z-index: 1;position: relative;background-color: white;}#sk-container-id-4 div.sk-parallel-item:first-child::after {align-self: flex-end;width: 50%;}#sk-container-id-4 div.sk-parallel-item:last-child::after {align-self: flex-start;width: 50%;}#sk-container-id-4 div.sk-parallel-item:only-child::after {width: 0;}#sk-container-id-4 div.sk-dashed-wrapped {border: 1px dashed gray;margin: 0 0.4em 0.5em 0.4em;box-sizing: border-box;padding-bottom: 0.4em;background-color: white;}#sk-container-id-4 div.sk-label label {font-family: monospace;font-weight: bold;display: inline-block;line-height: 1.2em;}#sk-container-id-4 div.sk-label-container {text-align: center;}#sk-container-id-4 div.sk-container {/* jupyter's `normalize.less` sets `[hidden] { display: none; }` but bootstrap.min.css set `[hidden] { display: none !important; }` so we also need the `!important` here to be able to override the default hidden behavior on the sphinx rendered scikit-learn.org. See: https://github.com/scikit-learn/scikit-learn/issues/21755 */display: inline-block !important;position: relative;}#sk-container-id-4 div.sk-text-repr-fallback {display: none;}</style><div id=\"sk-container-id-4\" class=\"sk-top-container\"><div class=\"sk-text-repr-fallback\"><pre>XGBClassifier(base_score=None, booster=None, callbacks=None,\n",
              "              colsample_bylevel=None, colsample_bynode=None,\n",
              "              colsample_bytree=None, early_stopping_rounds=None,\n",
              "              enable_categorical=False, eval_metric=None, feature_types=None,\n",
              "              gamma=None, gpu_id=None, grow_policy=None, importance_type=None,\n",
              "              interaction_constraints=None, learning_rate=0.5, max_bin=None,\n",
              "              max_cat_threshold=None, max_cat_to_onehot=None,\n",
              "              max_delta_step=None, max_depth=9, max_leaves=None,\n",
              "              min_child_weight=0, missing=nan, monotone_constraints=None,\n",
              "              n_estimators=200, n_jobs=None, num_parallel_tree=None,\n",
              "              predictor=None, random_state=None, ...)</pre><b>In a Jupyter environment, please rerun this cell to show the HTML representation or trust the notebook. <br />On GitHub, the HTML representation is unable to render, please try loading this page with nbviewer.org.</b></div><div class=\"sk-container\" hidden><div class=\"sk-item\"><div class=\"sk-estimator sk-toggleable\"><input class=\"sk-toggleable__control sk-hidden--visually\" id=\"sk-estimator-id-4\" type=\"checkbox\" checked><label for=\"sk-estimator-id-4\" class=\"sk-toggleable__label sk-toggleable__label-arrow\">XGBClassifier</label><div class=\"sk-toggleable__content\"><pre>XGBClassifier(base_score=None, booster=None, callbacks=None,\n",
              "              colsample_bylevel=None, colsample_bynode=None,\n",
              "              colsample_bytree=None, early_stopping_rounds=None,\n",
              "              enable_categorical=False, eval_metric=None, feature_types=None,\n",
              "              gamma=None, gpu_id=None, grow_policy=None, importance_type=None,\n",
              "              interaction_constraints=None, learning_rate=0.5, max_bin=None,\n",
              "              max_cat_threshold=None, max_cat_to_onehot=None,\n",
              "              max_delta_step=None, max_depth=9, max_leaves=None,\n",
              "              min_child_weight=0, missing=nan, monotone_constraints=None,\n",
              "              n_estimators=200, n_jobs=None, num_parallel_tree=None,\n",
              "              predictor=None, random_state=None, ...)</pre></div></div></div></div></div>"
            ]
          },
          "metadata": {},
          "execution_count": 42
        }
      ]
    },
    {
      "cell_type": "code",
      "source": [
        "preds_xgb = xgb.predict(X_test)"
      ],
      "metadata": {
        "id": "frgJnUeffVXj"
      },
      "execution_count": null,
      "outputs": []
    },
    {
      "cell_type": "code",
      "source": [
        "preds_xgb[:10]"
      ],
      "metadata": {
        "colab": {
          "base_uri": "https://localhost:8080/"
        },
        "id": "JNDxJhDi4zHh",
        "outputId": "b4aa12f9-1b96-4e2a-dfc3-a0acbfda605d"
      },
      "execution_count": null,
      "outputs": [
        {
          "output_type": "execute_result",
          "data": {
            "text/plain": [
              "array([0, 0, 1, 0, 0, 0, 1, 0, 0, 0])"
            ]
          },
          "metadata": {},
          "execution_count": 44
        }
      ]
    },
    {
      "cell_type": "code",
      "source": [
        "print(confusion_matrix(y_test,preds_xgb))\n",
        "print('\\n')\n",
        "print(classification_report(y_test,preds_xgb))"
      ],
      "metadata": {
        "colab": {
          "base_uri": "https://localhost:8080/"
        },
        "id": "6hA3Npq-ZjCt",
        "outputId": "6dfc93dd-5f79-400e-98bd-8428e71505d7"
      },
      "execution_count": null,
      "outputs": [
        {
          "output_type": "stream",
          "name": "stdout",
          "text": [
            "[[151  15]\n",
            " [ 28  67]]\n",
            "\n",
            "\n",
            "              precision    recall  f1-score   support\n",
            "\n",
            "           0       0.84      0.91      0.88       166\n",
            "           1       0.82      0.71      0.76        95\n",
            "\n",
            "    accuracy                           0.84       261\n",
            "   macro avg       0.83      0.81      0.82       261\n",
            "weighted avg       0.83      0.84      0.83       261\n",
            "\n"
          ]
        }
      ]
    },
    {
      "cell_type": "code",
      "source": [
        "# Test the model on the testing set\n",
        "xgb_train_accuracy = xgb.score(X_train, y_train)\n",
        "xgb_test_accuracy = xgb.score(X_test, y_test)\n",
        "\n",
        "print(\"Training accuracy:\", xgb_train_accuracy)\n",
        "print(\"Testing accuracy:\", xgb_test_accuracy)"
      ],
      "metadata": {
        "colab": {
          "base_uri": "https://localhost:8080/"
        },
        "id": "rmh2wMLKo6gr",
        "outputId": "0711d368-2b0d-4ef0-8c66-78857f745e34"
      },
      "execution_count": null,
      "outputs": [
        {
          "output_type": "stream",
          "name": "stdout",
          "text": [
            "Training accuracy: 0.9779482262703739\n",
            "Testing accuracy: 0.8352490421455939\n"
          ]
        }
      ]
    },
    {
      "cell_type": "code",
      "source": [
        "print(\"Balanced accuracy:\", balanced_accuracy_score(y_test, preds_xgb))\n",
        "print(\"Matthews correlation coefficient (MCC):\", matthews_corrcoef(y_test, preds_xgb))"
      ],
      "metadata": {
        "colab": {
          "base_uri": "https://localhost:8080/"
        },
        "id": "d4FYQEf00LhO",
        "outputId": "3e60b3d5-02dc-4427-8dfc-67f3c83ab48a"
      },
      "execution_count": null,
      "outputs": [
        {
          "output_type": "stream",
          "name": "stdout",
          "text": [
            "Balanced accuracy: 0.8074508560558021\n",
            "Matthews correlation coefficient (MCC): 0.637364847576887\n"
          ]
        }
      ]
    },
    {
      "cell_type": "markdown",
      "source": [
        "## **Hyperparameters tuning**"
      ],
      "metadata": {
        "id": "KVgyJQbE4k14"
      }
    },
    {
      "cell_type": "code",
      "source": [
        "# NOTE: This cell takes ~6 hours\n",
        "grid = {\n",
        "    'max_depth': [5, 7, 9],\n",
        "    'min_child_weight': [0, 1, 2, 3],\n",
        "    'learning_rate': [0.01, 0.05, 0.3, 0.5],\n",
        "    'n_estimators': [100, 200, 300]\n",
        "}\n",
        "skf = StratifiedKFold(n_splits=5, shuffle=True, random_state=40)\n",
        "\n",
        "xg = XGBClassifier()\n",
        "\n",
        "grid_search = GridSearchCV(xg, param_grid=grid, cv=skf)\n",
        "grid_search.fit(X, y)\n",
        "\n",
        "best_xg = grid_search.best_estimator_\n",
        "\n",
        "scores_xg = cross_val_score(best_xg, X, y, cv=skf)\n",
        "\n",
        "print('Best parameters: ',grid_search.best_params_)\n",
        "print('\\n')\n",
        "print('Cross-validation scores:', scores_xg)\n",
        "print('\\n')\n",
        "print('Mean score:', np.mean(scores_xg))\n",
        "print('\\n')\n",
        "print('Best score: ', grid_search.best_score_)"
      ],
      "metadata": {
        "id": "l4d2yoE2advf",
        "colab": {
          "base_uri": "https://localhost:8080/"
        },
        "outputId": "b3c8f8f0-9ebc-47ea-8310-f9cbf6472047"
      },
      "execution_count": null,
      "outputs": [
        {
          "output_type": "stream",
          "name": "stdout",
          "text": [
            "Best parameters:  {'learning_rate': 0.3, 'max_depth': 9, 'min_child_weight': 0, 'n_estimators': 300}\n",
            "\n",
            "\n",
            "Cross-validation scores: [0.85823755 0.83141762 0.83524904 0.8697318  0.83846154]\n",
            "\n",
            "\n",
            "Mean score: 0.8466195107574418\n",
            "\n",
            "\n",
            "Best score:  0.8466195107574418\n"
          ]
        }
      ]
    },
    {
      "cell_type": "markdown",
      "source": [
        "## **ROC curve**"
      ],
      "metadata": {
        "id": "ivKbZDg4_Qb0"
      }
    },
    {
      "cell_type": "code",
      "source": [
        "y_pred_proba_xgb = xgb.predict_proba(X_test)[:,1]\n",
        "fpr_xgb, tpr_xgb, thresholds_xgb = roc_curve(y_test, y_pred_proba_xgb)\n",
        "auc_xgb = roc_auc_score(y_test, y_pred_proba_xgb)\n",
        "\n",
        "plt.plot(fpr_xgb, tpr_xgb, label='XGBoost (AUC= %.2f)' % (auc_xgb))\n",
        "plt.plot([0, 1], [0, 1],'r')\n",
        "plt.xlim([0, 1])\n",
        "plt.ylim([0, 1])\n",
        "plt.xlabel('False Positive Rate')\n",
        "plt.ylabel('True Positive Rate')\n",
        "plt.title('ROC curve')\n",
        "plt.legend()\n",
        "\n",
        "# Add threshold point\n",
        "# threshold_xgb = 0.34\n",
        "# idx = np.min(np.where(tpr_xgb > threshold_xgb))\n",
        "# plt.scatter(fpr_xgb[idx], tpr_xgb[idx], marker='o', color='black', label='Threshold')"
      ],
      "metadata": {
        "id": "vW_RStAv6AVs",
        "colab": {
          "base_uri": "https://localhost:8080/",
          "height": 499
        },
        "outputId": "6068b7c5-2790-4fd7-c619-8f8c28963aa5"
      },
      "execution_count": null,
      "outputs": [
        {
          "output_type": "execute_result",
          "data": {
            "text/plain": [
              "<matplotlib.legend.Legend at 0x7d21833bf3a0>"
            ]
          },
          "metadata": {},
          "execution_count": 48
        },
        {
          "output_type": "display_data",
          "data": {
            "text/plain": [
              "<Figure size 640x480 with 1 Axes>"
            ],
            "image/png": "[encoded data removed]"
          },
          "metadata": {}
        }
      ]
    },
    {
      "cell_type": "code",
      "source": [
        "with open('XGB_model.pkl', 'wb') as f:\n",
        "    pickle.dump(xgb, f)"
      ],
      "metadata": {
        "id": "jxko_joERdGE"
      },
      "execution_count": null,
      "outputs": []
    },
    {
      "cell_type": "markdown",
      "source": [
        "# **Leraning curve for Rf & XGB**"
      ],
      "metadata": {
        "id": "_D2sJj3VUFTG"
      }
    },
    {
      "cell_type": "code",
      "source": [
        "from sklearn.model_selection import LearningCurveDisplay, ShuffleSplit\n",
        "\n",
        "fig, ax = plt.subplots(nrows=1, ncols=2, figsize=(10, 6), sharey=True)\n",
        "\n",
        "common_params = {\n",
        "    \"X\": X,\n",
        "    \"y\": y,\n",
        "    \"train_sizes\": np.linspace(0.1, 1.0, 5),\n",
        "    \"cv\": ShuffleSplit(n_splits=10, test_size=0.2, random_state=0),\n",
        "    \"score_type\": \"both\",\n",
        "    \"line_kw\": {\"marker\": \"o\"},\n",
        "    \"std_display_style\": \"fill_between\",\n",
        "    \"score_name\": \"Accuracy\",\n",
        "}\n",
        "\n",
        "for ax_idx, estimator in enumerate([Rf, xgb]):\n",
        "    LearningCurveDisplay.from_estimator(estimator, **common_params, ax=ax[ax_idx])\n",
        "    handles, label = ax[ax_idx].get_legend_handles_labels()\n",
        "    ax[ax_idx].legend(handles[:2], [\"Training Score\", \"Test Score\"])\n",
        "    ax[ax_idx].set_title(f\"Learning Curve for {estimator.__class__.__name__}\")"
      ],
      "metadata": {
        "id": "SE9BNPvlSa5X"
      },
      "execution_count": null,
      "outputs": []
    },
    {
      "cell_type": "markdown",
      "source": [
        "# **3. K-Nearest Neighbors**"
      ],
      "metadata": {
        "id": "9Z-8IdOdsBkJ"
      }
    },
    {
      "cell_type": "code",
      "source": [
        "from sklearn.neighbors import KNeighborsClassifier"
      ],
      "metadata": {
        "id": "lgrYYzXcsDwL"
      },
      "execution_count": null,
      "outputs": []
    },
    {
      "cell_type": "code",
      "source": [
        "# 1024\n",
        "knn = KNeighborsClassifier(n_neighbors=3, algorithm ='kd_tree', leaf_size= 20, weights= 'uniform')"
      ],
      "metadata": {
        "id": "3d1Q-75fscCm"
      },
      "execution_count": null,
      "outputs": []
    },
    {
      "cell_type": "code",
      "source": [
        "# 2048\n",
        "#knn = KNeighborsClassifier(n_neighbors=3, algorithm ='kd_tree', leaf_size= 10, weights= 'distance')"
      ],
      "metadata": {
        "id": "uXCf4lt-eXxP"
      },
      "execution_count": null,
      "outputs": []
    },
    {
      "cell_type": "code",
      "source": [
        "knn.fit(X_train, y_train)"
      ],
      "metadata": {
        "id": "wM38do-pseZe",
        "colab": {
          "base_uri": "https://localhost:8080/",
          "height": 75
        },
        "outputId": "897ededa-5297-4ac7-8190-842c51e9ac8c"
      },
      "execution_count": null,
      "outputs": [
        {
          "output_type": "execute_result",
          "data": {
            "text/plain": [
              "KNeighborsClassifier(algorithm='kd_tree', leaf_size=20, n_neighbors=3)"
            ],
            "text/html": [
              "<style>#sk-container-id-5 {color: black;background-color: white;}#sk-container-id-5 pre{padding: 0;}#sk-container-id-5 div.sk-toggleable {background-color: white;}#sk-container-id-5 label.sk-toggleable__label {cursor: pointer;display: block;width: 100%;margin-bottom: 0;padding: 0.3em;box-sizing: border-box;text-align: center;}#sk-container-id-5 label.sk-toggleable__label-arrow:before {content: \"▸\";float: left;margin-right: 0.25em;color: #696969;}#sk-container-id-5 label.sk-toggleable__label-arrow:hover:before {color: black;}#sk-container-id-5 div.sk-estimator:hover label.sk-toggleable__label-arrow:before {color: black;}#sk-container-id-5 div.sk-toggleable__content {max-height: 0;max-width: 0;overflow: hidden;text-align: left;background-color: #f0f8ff;}#sk-container-id-5 div.sk-toggleable__content pre {margin: 0.2em;color: black;border-radius: 0.25em;background-color: #f0f8ff;}#sk-container-id-5 input.sk-toggleable__control:checked~div.sk-toggleable__content {max-height: 200px;max-width: 100%;overflow: auto;}#sk-container-id-5 input.sk-toggleable__control:checked~label.sk-toggleable__label-arrow:before {content: \"▾\";}#sk-container-id-5 div.sk-estimator input.sk-toggleable__control:checked~label.sk-toggleable__label {background-color: #d4ebff;}#sk-container-id-5 div.sk-label input.sk-toggleable__control:checked~label.sk-toggleable__label {background-color: #d4ebff;}#sk-container-id-5 input.sk-hidden--visually {border: 0;clip: rect(1px 1px 1px 1px);clip: rect(1px, 1px, 1px, 1px);height: 1px;margin: -1px;overflow: hidden;padding: 0;position: absolute;width: 1px;}#sk-container-id-5 div.sk-estimator {font-family: monospace;background-color: #f0f8ff;border: 1px dotted black;border-radius: 0.25em;box-sizing: border-box;margin-bottom: 0.5em;}#sk-container-id-5 div.sk-estimator:hover {background-color: #d4ebff;}#sk-container-id-5 div.sk-parallel-item::after {content: \"\";width: 100%;border-bottom: 1px solid gray;flex-grow: 1;}#sk-container-id-5 div.sk-label:hover label.sk-toggleable__label {background-color: #d4ebff;}#sk-container-id-5 div.sk-serial::before {content: \"\";position: absolute;border-left: 1px solid gray;box-sizing: border-box;top: 0;bottom: 0;left: 50%;z-index: 0;}#sk-container-id-5 div.sk-serial {display: flex;flex-direction: column;align-items: center;background-color: white;padding-right: 0.2em;padding-left: 0.2em;position: relative;}#sk-container-id-5 div.sk-item {position: relative;z-index: 1;}#sk-container-id-5 div.sk-parallel {display: flex;align-items: stretch;justify-content: center;background-color: white;position: relative;}#sk-container-id-5 div.sk-item::before, #sk-container-id-5 div.sk-parallel-item::before {content: \"\";position: absolute;border-left: 1px solid gray;box-sizing: border-box;top: 0;bottom: 0;left: 50%;z-index: -1;}#sk-container-id-5 div.sk-parallel-item {display: flex;flex-direction: column;z-index: 1;position: relative;background-color: white;}#sk-container-id-5 div.sk-parallel-item:first-child::after {align-self: flex-end;width: 50%;}#sk-container-id-5 div.sk-parallel-item:last-child::after {align-self: flex-start;width: 50%;}#sk-container-id-5 div.sk-parallel-item:only-child::after {width: 0;}#sk-container-id-5 div.sk-dashed-wrapped {border: 1px dashed gray;margin: 0 0.4em 0.5em 0.4em;box-sizing: border-box;padding-bottom: 0.4em;background-color: white;}#sk-container-id-5 div.sk-label label {font-family: monospace;font-weight: bold;display: inline-block;line-height: 1.2em;}#sk-container-id-5 div.sk-label-container {text-align: center;}#sk-container-id-5 div.sk-container {/* jupyter's `normalize.less` sets `[hidden] { display: none; }` but bootstrap.min.css set `[hidden] { display: none !important; }` so we also need the `!important` here to be able to override the default hidden behavior on the sphinx rendered scikit-learn.org. See: https://github.com/scikit-learn/scikit-learn/issues/21755 */display: inline-block !important;position: relative;}#sk-container-id-5 div.sk-text-repr-fallback {display: none;}</style><div id=\"sk-container-id-5\" class=\"sk-top-container\"><div class=\"sk-text-repr-fallback\"><pre>KNeighborsClassifier(algorithm=&#x27;kd_tree&#x27;, leaf_size=20, n_neighbors=3)</pre><b>In a Jupyter environment, please rerun this cell to show the HTML representation or trust the notebook. <br />On GitHub, the HTML representation is unable to render, please try loading this page with nbviewer.org.</b></div><div class=\"sk-container\" hidden><div class=\"sk-item\"><div class=\"sk-estimator sk-toggleable\"><input class=\"sk-toggleable__control sk-hidden--visually\" id=\"sk-estimator-id-5\" type=\"checkbox\" checked><label for=\"sk-estimator-id-5\" class=\"sk-toggleable__label sk-toggleable__label-arrow\">KNeighborsClassifier</label><div class=\"sk-toggleable__content\"><pre>KNeighborsClassifier(algorithm=&#x27;kd_tree&#x27;, leaf_size=20, n_neighbors=3)</pre></div></div></div></div></div>"
            ]
          },
          "metadata": {},
          "execution_count": 52
        }
      ]
    },
    {
      "cell_type": "code",
      "source": [
        "pred_knn = knn.predict(X_test)"
      ],
      "metadata": {
        "id": "wDotQybQsjwS"
      },
      "execution_count": null,
      "outputs": []
    },
    {
      "cell_type": "code",
      "source": [
        "print(confusion_matrix(y_test,pred_knn))\n",
        "print('\\n')\n",
        "print(classification_report(y_test,pred_knn))"
      ],
      "metadata": {
        "colab": {
          "base_uri": "https://localhost:8080/"
        },
        "id": "rVnpz3OXQeAw",
        "outputId": "7972bd94-c73d-4a6d-af30-9d8edefcde26"
      },
      "execution_count": null,
      "outputs": [
        {
          "output_type": "stream",
          "name": "stdout",
          "text": [
            "[[147  19]\n",
            " [ 28  67]]\n",
            "\n",
            "\n",
            "              precision    recall  f1-score   support\n",
            "\n",
            "           0       0.84      0.89      0.86       166\n",
            "           1       0.78      0.71      0.74        95\n",
            "\n",
            "    accuracy                           0.82       261\n",
            "   macro avg       0.81      0.80      0.80       261\n",
            "weighted avg       0.82      0.82      0.82       261\n",
            "\n"
          ]
        }
      ]
    },
    {
      "cell_type": "code",
      "source": [
        "# Test the model on the testing set\n",
        "knn_train_accuracy = knn.score(X_train, y_train)\n",
        "knn_test_accuracy = knn.score(X_test, y_test)\n",
        "\n",
        "print(\"Training accuracy:\", knn_train_accuracy)\n",
        "print(\"Testing accuracy:\", knn_test_accuracy)"
      ],
      "metadata": {
        "colab": {
          "base_uri": "https://localhost:8080/"
        },
        "id": "1DQmjhmlpEfa",
        "outputId": "ae1a3ee8-3f44-4b95-de28-69bce79c8d5c"
      },
      "execution_count": null,
      "outputs": [
        {
          "output_type": "stream",
          "name": "stdout",
          "text": [
            "Training accuracy: 0.8954937679769894\n",
            "Testing accuracy: 0.8199233716475096\n"
          ]
        }
      ]
    },
    {
      "cell_type": "code",
      "source": [
        "print(\"Balanced accuracy:\", balanced_accuracy_score(y_test, pred_knn))\n",
        "print(\"Matthews correlation coefficient (MCC):\", matthews_corrcoef(y_test, pred_knn))"
      ],
      "metadata": {
        "colab": {
          "base_uri": "https://localhost:8080/"
        },
        "id": "Gt7XVXh60ORM",
        "outputId": "46c69f62-2583-4ec2-d2ba-3d211d5bd15c"
      },
      "execution_count": null,
      "outputs": [
        {
          "output_type": "stream",
          "name": "stdout",
          "text": [
            "Balanced accuracy: 0.7954026632847178\n",
            "Matthews correlation coefficient (MCC): 0.6047724498708196\n"
          ]
        }
      ]
    },
    {
      "cell_type": "markdown",
      "source": [
        "## **Hyperparameters tunning**"
      ],
      "metadata": {
        "id": "diK_Gd4tMBuF"
      }
    },
    {
      "cell_type": "code",
      "source": [
        "grid = {\n",
        "    'n_neighbors': [3, 5, 7],\n",
        "    'weights': ['uniform', 'distance'],\n",
        "    'algorithm': ['auto', 'ball_tree', 'kd_tree', 'brute'],\n",
        "    'leaf_size': [10, 20, 30, 40, 50]\n",
        "}\n",
        "skf = StratifiedKFold(n_splits=10, shuffle=True, random_state=40)\n",
        "\n",
        "kn = KNeighborsClassifier()\n",
        "\n",
        "grid_search = GridSearchCV(kn, param_grid=grid, cv=skf)\n",
        "grid_search.fit(X, y)\n",
        "\n",
        "best_kn = grid_search.best_estimator_\n",
        "\n",
        "scores_kn = cross_val_score(best_kn, X, y, cv=skf)\n",
        "\n",
        "print('Best parameters: ',grid_search.best_params_)\n",
        "print('\\n')\n",
        "print('Cross-validation scores:', scores_kn)\n",
        "print('\\n')\n",
        "print('Mean score:', np.mean(scores_kn))\n",
        "print('\\n')\n",
        "print('Best score: ', grid_search.best_score_)"
      ],
      "metadata": {
        "id": "aUbhI-Ll0De1",
        "colab": {
          "base_uri": "https://localhost:8080/"
        },
        "outputId": "1cb1232b-7ac0-40da-841d-aa2e880ae3fc"
      },
      "execution_count": null,
      "outputs": [
        {
          "output_type": "stream",
          "name": "stdout",
          "text": [
            "Best parameters:  {'algorithm': 'kd_tree', 'leaf_size': 20, 'n_neighbors': 3, 'weights': 'uniform'}\n",
            "\n",
            "\n",
            "Cross-validation scores: [0.80916031 0.80916031 0.84732824 0.79389313 0.82307692 0.82307692\n",
            " 0.83846154 0.85384615 0.81538462 0.83076923]\n",
            "\n",
            "\n",
            "Mean score: 0.8244157369348208\n",
            "\n",
            "\n",
            "Best score:  0.8244157369348208\n"
          ]
        }
      ]
    },
    {
      "cell_type": "markdown",
      "source": [
        "## **ROC curve**"
      ],
      "metadata": {
        "id": "62C23CQ1OjiG"
      }
    },
    {
      "cell_type": "code",
      "source": [
        "y_pred_proba_knn = knn.predict_proba(X_test)[:,1]\n",
        "fpr_knn, tpr_knn, threshold_knn = roc_curve(y_test, y_pred_proba_knn)\n",
        "auc_knn = roc_auc_score(y_test, y_pred_proba_knn)\n",
        "\n",
        "plt.plot(fpr_knn, tpr_knn, label='KNN (AUC= %.2f)' % (auc_knn))\n",
        "plt.plot([0, 1], [0, 1],'k')\n",
        "plt.xlim([0, 1])\n",
        "plt.ylim([0, 1])\n",
        "plt.xlabel('False Positive Rate')\n",
        "plt.ylabel('True Positive Rate')\n",
        "plt.title('ROC curve')\n",
        "plt.legend()"
      ],
      "metadata": {
        "id": "10WDqOaUOiyN",
        "colab": {
          "base_uri": "https://localhost:8080/",
          "height": 499
        },
        "outputId": "9f87f956-7dbe-4ede-b2cd-cbb95d76fdcd"
      },
      "execution_count": null,
      "outputs": [
        {
          "output_type": "execute_result",
          "data": {
            "text/plain": [
              "<matplotlib.legend.Legend at 0x7d2183408370>"
            ]
          },
          "metadata": {},
          "execution_count": 57
        },
        {
          "output_type": "display_data",
          "data": {
            "text/plain": [
              "<Figure size 640x480 with 1 Axes>"
            ],
            "image/png": "[encoded data removed]"
          },
          "metadata": {}
        }
      ]
    },
    {
      "cell_type": "markdown",
      "source": [
        "# **Learning curve for KNN**"
      ],
      "metadata": {
        "id": "ELZSiBQrddSM"
      }
    },
    {
      "cell_type": "code",
      "source": [
        "from sklearn.model_selection import LearningCurveDisplay, ShuffleSplit\n",
        "\n",
        "fig, ax = plt.subplots(nrows=1, ncols=2, figsize=(10, 6), sharey=True)\n",
        "\n",
        "common_params = {\n",
        "    \"X\": X,\n",
        "    \"y\": y,\n",
        "    \"train_sizes\": np.linspace(0.1, 1.0, 5),\n",
        "    \"cv\": ShuffleSplit(n_splits=5, test_size=0.2, random_state=0),\n",
        "    \"score_type\": \"both\",\n",
        "    \"line_kw\": {\"marker\": \"o\"},\n",
        "    \"std_display_style\": \"fill_between\",\n",
        "    \"score_name\": \"Accuracy\",\n",
        "}\n",
        "\n",
        "for ax_idx, estimator in enumerate([knn]):\n",
        "    LearningCurveDisplay.from_estimator(estimator, **common_params, ax=ax[ax_idx])\n",
        "    handles, label = ax[ax_idx].get_legend_handles_labels()\n",
        "    ax[ax_idx].legend(handles[:2], [\"Training Score\", \"Test Score\"])\n",
        "    ax[ax_idx].set_title(f\"Learning Curve for {estimator.__class__.__name__}\")"
      ],
      "metadata": {
        "id": "v9KHpQffdOL8"
      },
      "execution_count": null,
      "outputs": []
    },
    {
      "cell_type": "code",
      "source": [
        "# Save the model\n",
        "with open('KNN_model.pkl', 'wb') as f:\n",
        "    pickle.dump(knn, f)"
      ],
      "metadata": {
        "id": "rhA9t77ushS3"
      },
      "execution_count": null,
      "outputs": []
    },
    {
      "cell_type": "markdown",
      "source": [
        "# **4. Support vector machines (SVM)**"
      ],
      "metadata": {
        "id": "WnpsVnUnv8ao"
      }
    },
    {
      "cell_type": "code",
      "source": [
        "from sklearn.svm import SVC\n"
      ],
      "metadata": {
        "id": "lGQFazOEtFIm"
      },
      "execution_count": null,
      "outputs": []
    },
    {
      "cell_type": "code",
      "source": [
        "#1024\n",
        "svm = SVC(C=5, kernel='rbf', probability=True, gamma='scale', random_state=10)"
      ],
      "metadata": {
        "id": "TQoMw-p0es0Q"
      },
      "execution_count": null,
      "outputs": []
    },
    {
      "cell_type": "code",
      "source": [
        "# 2048\n",
        "#svm = SVC(C=10, kernel='rbf', probability=True, gamma='scale', random_state=10)"
      ],
      "metadata": {
        "id": "JQgVaonHewQ-"
      },
      "execution_count": null,
      "outputs": []
    },
    {
      "cell_type": "code",
      "source": [
        "svm.fit(X_train,y_train)"
      ],
      "metadata": {
        "id": "DtPKi_4UtFFp",
        "colab": {
          "base_uri": "https://localhost:8080/",
          "height": 75
        },
        "outputId": "9988f535-71ea-45ad-8b90-bce725833e1b"
      },
      "execution_count": null,
      "outputs": [
        {
          "output_type": "execute_result",
          "data": {
            "text/plain": [
              "SVC(C=5, probability=True, random_state=10)"
            ],
            "text/html": [
              "<style>#sk-container-id-6 {color: black;background-color: white;}#sk-container-id-6 pre{padding: 0;}#sk-container-id-6 div.sk-toggleable {background-color: white;}#sk-container-id-6 label.sk-toggleable__label {cursor: pointer;display: block;width: 100%;margin-bottom: 0;padding: 0.3em;box-sizing: border-box;text-align: center;}#sk-container-id-6 label.sk-toggleable__label-arrow:before {content: \"▸\";float: left;margin-right: 0.25em;color: #696969;}#sk-container-id-6 label.sk-toggleable__label-arrow:hover:before {color: black;}#sk-container-id-6 div.sk-estimator:hover label.sk-toggleable__label-arrow:before {color: black;}#sk-container-id-6 div.sk-toggleable__content {max-height: 0;max-width: 0;overflow: hidden;text-align: left;background-color: #f0f8ff;}#sk-container-id-6 div.sk-toggleable__content pre {margin: 0.2em;color: black;border-radius: 0.25em;background-color: #f0f8ff;}#sk-container-id-6 input.sk-toggleable__control:checked~div.sk-toggleable__content {max-height: 200px;max-width: 100%;overflow: auto;}#sk-container-id-6 input.sk-toggleable__control:checked~label.sk-toggleable__label-arrow:before {content: \"▾\";}#sk-container-id-6 div.sk-estimator input.sk-toggleable__control:checked~label.sk-toggleable__label {background-color: #d4ebff;}#sk-container-id-6 div.sk-label input.sk-toggleable__control:checked~label.sk-toggleable__label {background-color: #d4ebff;}#sk-container-id-6 input.sk-hidden--visually {border: 0;clip: rect(1px 1px 1px 1px);clip: rect(1px, 1px, 1px, 1px);height: 1px;margin: -1px;overflow: hidden;padding: 0;position: absolute;width: 1px;}#sk-container-id-6 div.sk-estimator {font-family: monospace;background-color: #f0f8ff;border: 1px dotted black;border-radius: 0.25em;box-sizing: border-box;margin-bottom: 0.5em;}#sk-container-id-6 div.sk-estimator:hover {background-color: #d4ebff;}#sk-container-id-6 div.sk-parallel-item::after {content: \"\";width: 100%;border-bottom: 1px solid gray;flex-grow: 1;}#sk-container-id-6 div.sk-label:hover label.sk-toggleable__label {background-color: #d4ebff;}#sk-container-id-6 div.sk-serial::before {content: \"\";position: absolute;border-left: 1px solid gray;box-sizing: border-box;top: 0;bottom: 0;left: 50%;z-index: 0;}#sk-container-id-6 div.sk-serial {display: flex;flex-direction: column;align-items: center;background-color: white;padding-right: 0.2em;padding-left: 0.2em;position: relative;}#sk-container-id-6 div.sk-item {position: relative;z-index: 1;}#sk-container-id-6 div.sk-parallel {display: flex;align-items: stretch;justify-content: center;background-color: white;position: relative;}#sk-container-id-6 div.sk-item::before, #sk-container-id-6 div.sk-parallel-item::before {content: \"\";position: absolute;border-left: 1px solid gray;box-sizing: border-box;top: 0;bottom: 0;left: 50%;z-index: -1;}#sk-container-id-6 div.sk-parallel-item {display: flex;flex-direction: column;z-index: 1;position: relative;background-color: white;}#sk-container-id-6 div.sk-parallel-item:first-child::after {align-self: flex-end;width: 50%;}#sk-container-id-6 div.sk-parallel-item:last-child::after {align-self: flex-start;width: 50%;}#sk-container-id-6 div.sk-parallel-item:only-child::after {width: 0;}#sk-container-id-6 div.sk-dashed-wrapped {border: 1px dashed gray;margin: 0 0.4em 0.5em 0.4em;box-sizing: border-box;padding-bottom: 0.4em;background-color: white;}#sk-container-id-6 div.sk-label label {font-family: monospace;font-weight: bold;display: inline-block;line-height: 1.2em;}#sk-container-id-6 div.sk-label-container {text-align: center;}#sk-container-id-6 div.sk-container {/* jupyter's `normalize.less` sets `[hidden] { display: none; }` but bootstrap.min.css set `[hidden] { display: none !important; }` so we also need the `!important` here to be able to override the default hidden behavior on the sphinx rendered scikit-learn.org. See: https://github.com/scikit-learn/scikit-learn/issues/21755 */display: inline-block !important;position: relative;}#sk-container-id-6 div.sk-text-repr-fallback {display: none;}</style><div id=\"sk-container-id-6\" class=\"sk-top-container\"><div class=\"sk-text-repr-fallback\"><pre>SVC(C=5, probability=True, random_state=10)</pre><b>In a Jupyter environment, please rerun this cell to show the HTML representation or trust the notebook. <br />On GitHub, the HTML representation is unable to render, please try loading this page with nbviewer.org.</b></div><div class=\"sk-container\" hidden><div class=\"sk-item\"><div class=\"sk-estimator sk-toggleable\"><input class=\"sk-toggleable__control sk-hidden--visually\" id=\"sk-estimator-id-6\" type=\"checkbox\" checked><label for=\"sk-estimator-id-6\" class=\"sk-toggleable__label sk-toggleable__label-arrow\">SVC</label><div class=\"sk-toggleable__content\"><pre>SVC(C=5, probability=True, random_state=10)</pre></div></div></div></div></div>"
            ]
          },
          "metadata": {},
          "execution_count": 60
        }
      ]
    },
    {
      "cell_type": "code",
      "source": [
        "preds_svm = svm.predict(X_test)"
      ],
      "metadata": {
        "id": "_dgiNh1UtFDQ"
      },
      "execution_count": null,
      "outputs": []
    },
    {
      "cell_type": "code",
      "source": [
        "print(confusion_matrix(y_test,preds_svm))\n",
        "print('\\n')\n",
        "print(classification_report(y_test,preds_svm))"
      ],
      "metadata": {
        "colab": {
          "base_uri": "https://localhost:8080/"
        },
        "id": "h4B_yshjpTne",
        "outputId": "12eb1811-0032-42cf-c1df-ab4db735b452"
      },
      "execution_count": null,
      "outputs": [
        {
          "output_type": "stream",
          "name": "stdout",
          "text": [
            "[[152  14]\n",
            " [ 26  69]]\n",
            "\n",
            "\n",
            "              precision    recall  f1-score   support\n",
            "\n",
            "           0       0.85      0.92      0.88       166\n",
            "           1       0.83      0.73      0.78        95\n",
            "\n",
            "    accuracy                           0.85       261\n",
            "   macro avg       0.84      0.82      0.83       261\n",
            "weighted avg       0.85      0.85      0.84       261\n",
            "\n"
          ]
        }
      ]
    },
    {
      "cell_type": "code",
      "source": [
        "# Test the model on the testing set\n",
        "svm_train_accuracy = svm.score(X_train, y_train)\n",
        "svm_test_accuracy = svm.score(X_test, y_test)\n",
        "\n",
        "print(\"Training accuracy:\", svm_train_accuracy)\n",
        "print(\"Testing accuracy:\", svm_test_accuracy)"
      ],
      "metadata": {
        "colab": {
          "base_uri": "https://localhost:8080/"
        },
        "id": "4MKfvRnypNmw",
        "outputId": "8c6a82cb-baca-4ed9-8d38-cff2830e017b"
      },
      "execution_count": null,
      "outputs": [
        {
          "output_type": "stream",
          "name": "stdout",
          "text": [
            "Training accuracy: 0.9779482262703739\n",
            "Testing accuracy: 0.8467432950191571\n"
          ]
        }
      ]
    },
    {
      "cell_type": "code",
      "source": [
        "print(\"Balanced accuracy:\", balanced_accuracy_score(y_test, preds_svm))\n",
        "print(\"Matthews correlation coefficient (MCC):\", matthews_corrcoef(y_test, preds_svm))"
      ],
      "metadata": {
        "colab": {
          "base_uri": "https://localhost:8080/"
        },
        "id": "Ex2uOoGI0gHn",
        "outputId": "9c931b43-cace-4dac-db96-967c64b895cd"
      },
      "execution_count": null,
      "outputs": [
        {
          "output_type": "stream",
          "name": "stdout",
          "text": [
            "Balanced accuracy: 0.8209892200380469\n",
            "Matthews correlation coefficient (MCC): 0.6632652473684647\n"
          ]
        }
      ]
    },
    {
      "cell_type": "markdown",
      "source": [
        "# **Hyperparameter tuning**\n",
        "\n",
        "gamma is not used with linear kernel"
      ],
      "metadata": {
        "id": "z5jf_yvDTZ4B"
      }
    },
    {
      "cell_type": "code",
      "source": [
        "# NOTE: This cell takes ~ 4 hours to complete in Google Colab.\n",
        "grid = {\n",
        "    'C': [0.1, 1, 5, 10, 15, 20],\n",
        "    'kernel': ['poly', 'rbf', 'sigmoid'],\n",
        "    'gamma': [0.1, 1.0, 10.0, 'scale', 'auto']\n",
        "}\n",
        "skf = StratifiedKFold(n_splits=5, shuffle=True, random_state=40)\n",
        "\n",
        "sv = SVC()\n",
        "\n",
        "grid_search = GridSearchCV(sv, param_grid=grid, cv=skf)\n",
        "grid_search.fit(X, y)\n",
        "\n",
        "best_sv = grid_search.best_estimator_\n",
        "\n",
        "scores_sv = cross_val_score(best_sv, X, y, cv=skf)\n",
        "\n",
        "print('Best parameters: ',grid_search.best_params_)\n",
        "print('\\n')\n",
        "print('Cross-validation scores:', scores_sv)\n",
        "print('\\n')\n",
        "print('Mean score:', np.mean(scores_sv))\n",
        "print('\\n')\n",
        "print('Best score: ', grid_search.best_score_)"
      ],
      "metadata": {
        "id": "5s89xRwFOkoN",
        "colab": {
          "base_uri": "https://localhost:8080/"
        },
        "outputId": "3c3710df-8079-4e41-a4f7-6e6591bb050c"
      },
      "execution_count": null,
      "outputs": [
        {
          "output_type": "stream",
          "name": "stdout",
          "text": [
            "Best parameters:  {'C': 0.1, 'gamma': 1.0, 'kernel': 'poly'}\n",
            "\n",
            "\n",
            "Cross-validation scores: [0.84291188 0.83141762 0.8467433  0.86206897 0.83846154]\n",
            "\n",
            "\n",
            "Mean score: 0.844320660182729\n",
            "\n",
            "\n",
            "Best score:  0.844320660182729\n"
          ]
        }
      ]
    },
    {
      "cell_type": "code",
      "source": [
        "with open('SVM_model.pkl', 'wb') as f:\n",
        "    pickle.dump(svm, f)"
      ],
      "metadata": {
        "id": "ie7i6wCaE_yR"
      },
      "execution_count": null,
      "outputs": []
    },
    {
      "cell_type": "markdown",
      "source": [
        "## **ROC curve**"
      ],
      "metadata": {
        "id": "qYs1_xec56i_"
      }
    },
    {
      "cell_type": "code",
      "source": [
        "y_pred_proba_svm = svm.predict_proba(X_test)[:,1]\n",
        "fpr_svm, tpr_svm, thresholds_svm = roc_curve(y_test, y_pred_proba_svm)\n",
        "auc_svm = roc_auc_score(y_test, y_pred_proba_svm)\n",
        "\n",
        "plt.plot(fpr_svm, tpr_svm, label='SVM (AUC= %.2f)' % (auc_svm))\n",
        "plt.plot([0, 1], [0, 1],'r')\n",
        "plt.xlim([0, 1])\n",
        "plt.ylim([0, 1])\n",
        "plt.xlabel('False Positive Rate')\n",
        "plt.ylabel('True Positive Rate')\n",
        "plt.title('ROC curve')\n",
        "plt.legend()"
      ],
      "metadata": {
        "id": "iAXPK_8tSWsb",
        "colab": {
          "base_uri": "https://localhost:8080/",
          "height": 499
        },
        "outputId": "39ba0eaf-dde0-46c3-fee6-cc21312bd6ff"
      },
      "execution_count": null,
      "outputs": [
        {
          "output_type": "execute_result",
          "data": {
            "text/plain": [
              "<matplotlib.legend.Legend at 0x7d218346b6d0>"
            ]
          },
          "metadata": {},
          "execution_count": 65
        },
        {
          "output_type": "display_data",
          "data": {
            "text/plain": [
              "<Figure size 640x480 with 1 Axes>"
            ],
            "image/png": "[encoded data removed]"
          },
          "metadata": {}
        }
      ]
    },
    {
      "cell_type": "markdown",
      "source": [
        "# **5. Naive Bayes**"
      ],
      "metadata": {
        "id": "3cdvaO_AUxud"
      }
    },
    {
      "cell_type": "code",
      "source": [
        "from sklearn.naive_bayes import MultinomialNB\n",
        "# var_smoothing=1e-9 is the default. This is used to decrease regularization\n"
      ],
      "metadata": {
        "id": "jHtGEkqrSWp2"
      },
      "execution_count": null,
      "outputs": []
    },
    {
      "cell_type": "code",
      "source": [
        "# 1024\n",
        "nb = MultinomialNB(alpha = 0.5)"
      ],
      "metadata": {
        "id": "EhjqBU5khnLu"
      },
      "execution_count": null,
      "outputs": []
    },
    {
      "cell_type": "code",
      "source": [
        "# 2048\n",
        "#nb = MultinomialNB(alpha = 0.1)"
      ],
      "metadata": {
        "id": "DBKbChl1hkO5"
      },
      "execution_count": null,
      "outputs": []
    },
    {
      "cell_type": "code",
      "source": [
        "nb.fit(X_train, y_train)"
      ],
      "metadata": {
        "id": "oZO1HtJXASvL",
        "colab": {
          "base_uri": "https://localhost:8080/",
          "height": 75
        },
        "outputId": "fa7f2f44-46b1-46c2-f8c1-88ebf9f92593"
      },
      "execution_count": null,
      "outputs": [
        {
          "output_type": "execute_result",
          "data": {
            "text/plain": [
              "MultinomialNB(alpha=0.5)"
            ],
            "text/html": [
              "<style>#sk-container-id-7 {color: black;background-color: white;}#sk-container-id-7 pre{padding: 0;}#sk-container-id-7 div.sk-toggleable {background-color: white;}#sk-container-id-7 label.sk-toggleable__label {cursor: pointer;display: block;width: 100%;margin-bottom: 0;padding: 0.3em;box-sizing: border-box;text-align: center;}#sk-container-id-7 label.sk-toggleable__label-arrow:before {content: \"▸\";float: left;margin-right: 0.25em;color: #696969;}#sk-container-id-7 label.sk-toggleable__label-arrow:hover:before {color: black;}#sk-container-id-7 div.sk-estimator:hover label.sk-toggleable__label-arrow:before {color: black;}#sk-container-id-7 div.sk-toggleable__content {max-height: 0;max-width: 0;overflow: hidden;text-align: left;background-color: #f0f8ff;}#sk-container-id-7 div.sk-toggleable__content pre {margin: 0.2em;color: black;border-radius: 0.25em;background-color: #f0f8ff;}#sk-container-id-7 input.sk-toggleable__control:checked~div.sk-toggleable__content {max-height: 200px;max-width: 100%;overflow: auto;}#sk-container-id-7 input.sk-toggleable__control:checked~label.sk-toggleable__label-arrow:before {content: \"▾\";}#sk-container-id-7 div.sk-estimator input.sk-toggleable__control:checked~label.sk-toggleable__label {background-color: #d4ebff;}#sk-container-id-7 div.sk-label input.sk-toggleable__control:checked~label.sk-toggleable__label {background-color: #d4ebff;}#sk-container-id-7 input.sk-hidden--visually {border: 0;clip: rect(1px 1px 1px 1px);clip: rect(1px, 1px, 1px, 1px);height: 1px;margin: -1px;overflow: hidden;padding: 0;position: absolute;width: 1px;}#sk-container-id-7 div.sk-estimator {font-family: monospace;background-color: #f0f8ff;border: 1px dotted black;border-radius: 0.25em;box-sizing: border-box;margin-bottom: 0.5em;}#sk-container-id-7 div.sk-estimator:hover {background-color: #d4ebff;}#sk-container-id-7 div.sk-parallel-item::after {content: \"\";width: 100%;border-bottom: 1px solid gray;flex-grow: 1;}#sk-container-id-7 div.sk-label:hover label.sk-toggleable__label {background-color: #d4ebff;}#sk-container-id-7 div.sk-serial::before {content: \"\";position: absolute;border-left: 1px solid gray;box-sizing: border-box;top: 0;bottom: 0;left: 50%;z-index: 0;}#sk-container-id-7 div.sk-serial {display: flex;flex-direction: column;align-items: center;background-color: white;padding-right: 0.2em;padding-left: 0.2em;position: relative;}#sk-container-id-7 div.sk-item {position: relative;z-index: 1;}#sk-container-id-7 div.sk-parallel {display: flex;align-items: stretch;justify-content: center;background-color: white;position: relative;}#sk-container-id-7 div.sk-item::before, #sk-container-id-7 div.sk-parallel-item::before {content: \"\";position: absolute;border-left: 1px solid gray;box-sizing: border-box;top: 0;bottom: 0;left: 50%;z-index: -1;}#sk-container-id-7 div.sk-parallel-item {display: flex;flex-direction: column;z-index: 1;position: relative;background-color: white;}#sk-container-id-7 div.sk-parallel-item:first-child::after {align-self: flex-end;width: 50%;}#sk-container-id-7 div.sk-parallel-item:last-child::after {align-self: flex-start;width: 50%;}#sk-container-id-7 div.sk-parallel-item:only-child::after {width: 0;}#sk-container-id-7 div.sk-dashed-wrapped {border: 1px dashed gray;margin: 0 0.4em 0.5em 0.4em;box-sizing: border-box;padding-bottom: 0.4em;background-color: white;}#sk-container-id-7 div.sk-label label {font-family: monospace;font-weight: bold;display: inline-block;line-height: 1.2em;}#sk-container-id-7 div.sk-label-container {text-align: center;}#sk-container-id-7 div.sk-container {/* jupyter's `normalize.less` sets `[hidden] { display: none; }` but bootstrap.min.css set `[hidden] { display: none !important; }` so we also need the `!important` here to be able to override the default hidden behavior on the sphinx rendered scikit-learn.org. See: https://github.com/scikit-learn/scikit-learn/issues/21755 */display: inline-block !important;position: relative;}#sk-container-id-7 div.sk-text-repr-fallback {display: none;}</style><div id=\"sk-container-id-7\" class=\"sk-top-container\"><div class=\"sk-text-repr-fallback\"><pre>MultinomialNB(alpha=0.5)</pre><b>In a Jupyter environment, please rerun this cell to show the HTML representation or trust the notebook. <br />On GitHub, the HTML representation is unable to render, please try loading this page with nbviewer.org.</b></div><div class=\"sk-container\" hidden><div class=\"sk-item\"><div class=\"sk-estimator sk-toggleable\"><input class=\"sk-toggleable__control sk-hidden--visually\" id=\"sk-estimator-id-7\" type=\"checkbox\" checked><label for=\"sk-estimator-id-7\" class=\"sk-toggleable__label sk-toggleable__label-arrow\">MultinomialNB</label><div class=\"sk-toggleable__content\"><pre>MultinomialNB(alpha=0.5)</pre></div></div></div></div></div>"
            ]
          },
          "metadata": {},
          "execution_count": 70
        }
      ]
    },
    {
      "cell_type": "code",
      "source": [
        "pred_nb = nb.predict(X_test)"
      ],
      "metadata": {
        "id": "j9nzGAiU052L"
      },
      "execution_count": null,
      "outputs": []
    },
    {
      "cell_type": "code",
      "source": [
        "print(confusion_matrix(y_test,pred_nb))\n",
        "print('\\n')\n",
        "print(classification_report(y_test,pred_nb))"
      ],
      "metadata": {
        "colab": {
          "base_uri": "https://localhost:8080/"
        },
        "id": "h2ry9ab6pvXn",
        "outputId": "762a5f23-fc46-44df-dfb6-af52fbcc2d0b"
      },
      "execution_count": null,
      "outputs": [
        {
          "output_type": "stream",
          "name": "stdout",
          "text": [
            "[[156  10]\n",
            " [ 38  57]]\n",
            "\n",
            "\n",
            "              precision    recall  f1-score   support\n",
            "\n",
            "           0       0.80      0.94      0.87       166\n",
            "           1       0.85      0.60      0.70        95\n",
            "\n",
            "    accuracy                           0.82       261\n",
            "   macro avg       0.83      0.77      0.79       261\n",
            "weighted avg       0.82      0.82      0.81       261\n",
            "\n"
          ]
        }
      ]
    },
    {
      "cell_type": "code",
      "source": [
        "# Test the model on the testing set\n",
        "nb_train_accuracy = nb.score(X_train, y_train)\n",
        "nb_test_accuracy = nb.score(X_test, y_test)\n",
        "\n",
        "print(\"Training accuracy:\", nb_train_accuracy)\n",
        "print(\"Testing accuracy:\", nb_test_accuracy)"
      ],
      "metadata": {
        "id": "3fNUE70XRGLM",
        "colab": {
          "base_uri": "https://localhost:8080/"
        },
        "outputId": "e2bb2637-8213-4b3b-831a-288b9d512328"
      },
      "execution_count": null,
      "outputs": [
        {
          "output_type": "stream",
          "name": "stdout",
          "text": [
            "Training accuracy: 0.8264621284755513\n",
            "Testing accuracy: 0.8160919540229885\n"
          ]
        }
      ]
    },
    {
      "cell_type": "code",
      "source": [
        "print(\"Balanced accuracy:\", balanced_accuracy_score(y_test, pred_nb))\n",
        "print(\"Matthews correlation coefficient (MCC):\", matthews_corrcoef(y_test, pred_nb))"
      ],
      "metadata": {
        "colab": {
          "base_uri": "https://localhost:8080/"
        },
        "id": "THmmeA8i0mPZ",
        "outputId": "28654887-c904-4779-dc1f-f9cb79a94b3c"
      },
      "execution_count": null,
      "outputs": [
        {
          "output_type": "stream",
          "name": "stdout",
          "text": [
            "Balanced accuracy: 0.7698795180722892\n",
            "Matthews correlation coefficient (MCC): 0.5945351034238081\n"
          ]
        }
      ]
    },
    {
      "cell_type": "code",
      "source": [
        "with open('NB_model.pkl', 'wb') as f:\n",
        "    pickle.dump(nb, f)"
      ],
      "metadata": {
        "id": "nFpp-QzrFUC8"
      },
      "execution_count": null,
      "outputs": []
    },
    {
      "cell_type": "markdown",
      "source": [
        "## **Hyperparameters tuning**"
      ],
      "metadata": {
        "id": "iM8egcxPTs8d"
      }
    },
    {
      "cell_type": "code",
      "source": [
        "grid = {\n",
        "    'alpha': [0.01, 0.05, 0.1, 0.2, 0.3, 0.4, 0.5, 0.6, 0.7, 0.8, 0.9, 1.0]}\n",
        "\n",
        "skf = StratifiedKFold(n_splits=5, shuffle=True, random_state=40)\n",
        "\n",
        "nb = MultinomialNB()\n",
        "\n",
        "grid_search = GridSearchCV(nb, param_grid=grid, cv=skf)\n",
        "grid_search.fit(X, y)\n",
        "\n",
        "best_nb = grid_search.best_estimator_\n",
        "\n",
        "scores_nb = cross_val_score(best_nb, X, y, cv=skf)\n",
        "\n",
        "print('Best parameters: ',grid_search.best_params_)\n",
        "print('\\n')\n",
        "print('Cross-validation scores:', scores_nb)\n",
        "print('\\n')\n",
        "print('Mean score:', np.mean(scores_nb))\n",
        "print('\\n')\n",
        "print('Best score: ', grid_search.best_score_)\n"
      ],
      "metadata": {
        "id": "XVRFMLMoVzIL",
        "colab": {
          "base_uri": "https://localhost:8080/"
        },
        "outputId": "25555af0-4825-4e63-d980-7c8e7e72a17a"
      },
      "execution_count": null,
      "outputs": [
        {
          "output_type": "stream",
          "name": "stdout",
          "text": [
            "Best parameters:  {'alpha': 0.2}\n",
            "\n",
            "\n",
            "Cross-validation scores: [0.78544061 0.81609195 0.80842912 0.78927203 0.77692308]\n",
            "\n",
            "\n",
            "Mean score: 0.7952313586796345\n",
            "\n",
            "\n",
            "Best score:  0.7952313586796345\n"
          ]
        }
      ]
    },
    {
      "cell_type": "markdown",
      "source": [
        "## **ROC curve**"
      ],
      "metadata": {
        "id": "i4SxX9ZtTIy2"
      }
    },
    {
      "cell_type": "code",
      "source": [
        "y_pred_proba_nb = nb.predict_proba(X_test)[:,1]\n",
        "fpr_nb, tpr_nb, thresholds_nb = roc_curve(y_test, y_pred_proba_nb)\n",
        "auc_nb = roc_auc_score(y_test, y_pred_proba_nb)\n",
        "\n",
        "plt.plot(fpr_nb, tpr_nb, label='Naive Bayes (AUC= %.2f)' % (auc_nb))\n",
        "plt.plot([0, 1], [0, 1],'r')\n",
        "plt.xlim([0, 1])\n",
        "plt.ylim([0, 1])\n",
        "plt.xlabel('False Positive Rate')\n",
        "plt.ylabel('True Positive Rate')\n",
        "plt.title('ROC curve')\n",
        "plt.legend()\n",
        "\n",
        "# Add threshold point\n",
        "# threshold = 0.86\n",
        "# idx = np.min(np.where(tpr > threshold))\n",
        "# plt.scatter(fpr[idx], tpr[idx], marker='o', color='black', label='Threshold')\n"
      ],
      "metadata": {
        "id": "ffx6xC7LTIy2",
        "colab": {
          "base_uri": "https://localhost:8080/",
          "height": 499
        },
        "outputId": "b7c1bd20-2b13-4053-ae43-530d5a84c650"
      },
      "execution_count": null,
      "outputs": [
        {
          "output_type": "execute_result",
          "data": {
            "text/plain": [
              "<matplotlib.legend.Legend at 0x7d218344df60>"
            ]
          },
          "metadata": {},
          "execution_count": 76
        },
        {
          "output_type": "display_data",
          "data": {
            "text/plain": [
              "<Figure size 640x480 with 1 Axes>"
            ],
            "image/png": "[encoded data removed]"
          },
          "metadata": {}
        }
      ]
    },
    {
      "cell_type": "markdown",
      "source": [
        "#**Learning curves for SCV and Naive Bayes**"
      ],
      "metadata": {
        "id": "dAN4jqvJSGXQ"
      }
    },
    {
      "cell_type": "code",
      "source": [
        "from sklearn.model_selection import LearningCurveDisplay, ShuffleSplit\n",
        "\n",
        "fig, ax = plt.subplots(nrows=1, ncols=2, figsize=(10, 6), sharey=True)\n",
        "\n",
        "common_params = {\n",
        "    \"X\": X,\n",
        "    \"y\": y,\n",
        "    \"train_sizes\": np.linspace(0.1, 1.0, 5),\n",
        "    \"cv\": ShuffleSplit(n_splits=10, test_size=0.2, random_state=0),\n",
        "    \"score_type\": \"both\",\n",
        "    \"n_jobs\": 4,\n",
        "    \"line_kw\": {\"marker\": \"o\"},\n",
        "    \"std_display_style\": \"fill_between\",\n",
        "    \"score_name\": \"Accuracy\",\n",
        "}\n",
        "\n",
        "for ax_idx, estimator in enumerate([nb, svm]):\n",
        "    LearningCurveDisplay.from_estimator(estimator, **common_params, ax=ax[ax_idx])\n",
        "    handles, label = ax[ax_idx].get_legend_handles_labels()\n",
        "    ax[ax_idx].legend(handles[:2], [\"Training Score\", \"Test Score\"])\n",
        "    ax[ax_idx].set_title(f\"Learning Curve for {estimator.__class__.__name__}\")\n"
      ],
      "metadata": {
        "id": "SwA3Wa_5_2FB"
      },
      "execution_count": null,
      "outputs": []
    },
    {
      "cell_type": "markdown",
      "source": [
        "# **get labels back**"
      ],
      "metadata": {
        "id": "_dWdvu1AWddK"
      }
    },
    {
      "cell_type": "code",
      "source": [
        "pred_nb"
      ],
      "metadata": {
        "id": "HkykEqKmYeoS"
      },
      "execution_count": null,
      "outputs": []
    },
    {
      "cell_type": "code",
      "source": [
        "class_le.inverse_transform(pred_nb)\n"
      ],
      "metadata": {
        "id": "gzhWcvUlWg38"
      },
      "execution_count": null,
      "outputs": []
    },
    {
      "cell_type": "markdown",
      "source": [
        "# **ROC curve for all**"
      ],
      "metadata": {
        "id": "uVlDPDB24y-U"
      }
    },
    {
      "cell_type": "code",
      "source": [
        "plt.rcParams['font.size'] = 13\n",
        "\n",
        "plt.plot(fpr_Rf, tpr_Rf, label='Rf (AUC= %.2f)' % (auc_Rf))\n",
        "plt.plot(fpr_xgb, tpr_xgb, label='XGBoost (AUC= %.2f)' % (auc_xgb))\n",
        "plt.plot(fpr_svm, tpr_svm, label='SVM (AUC= %.2f)' % (auc_svm))\n",
        "plt.plot(fpr_knn, tpr_knn, label='KNN (AUC= %.2f)' % (auc_knn))\n",
        "plt.plot(fpr_nb, tpr_nb, label='NB (AUC= %.2f)' % (auc_nb))\n",
        "plt.plot([0, 1], [0, 1],'k')\n",
        "plt.xlim([0, 1])\n",
        "plt.ylim([0, 1])\n",
        "plt.xlabel('False Positive Rate')\n",
        "plt.ylabel('True Positive Rate')\n",
        "plt.title('ROC curves')\n",
        "plt.legend()\n",
        "plt.savefig('ROC curves_1024.pdf')"
      ],
      "metadata": {
        "colab": {
          "base_uri": "https://localhost:8080/",
          "height": 482
        },
        "id": "MfXq76KeFZY3",
        "outputId": "1c8e9516-3421-485e-c400-8727a62cb785"
      },
      "execution_count": null,
      "outputs": [
        {
          "output_type": "display_data",
          "data": {
            "text/plain": [
              "<Figure size 640x480 with 1 Axes>"
            ],
            "image/png": "[encoded data removed]"
          },
          "metadata": {}
        }
      ]
    }
  ]
}